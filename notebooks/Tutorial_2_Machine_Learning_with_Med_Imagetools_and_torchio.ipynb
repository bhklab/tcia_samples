{
  "nbformat": 4,
  "nbformat_minor": 0,
  "metadata": {
    "colab": {
      "name": "Tutorial 2: Machine Learning with Med-Imagetools and torchio.ipynb",
      "provenance": [],
      "collapsed_sections": []
    },
    "kernelspec": {
      "name": "python3",
      "display_name": "Python 3"
    },
    "language_info": {
      "name": "python"
    },
    "accelerator": "GPU",
    "widgets": {
      "application/vnd.jupyter.widget-state+json": {
        "b8f4bc0e6e9b4a0eaec4355df45f505a": {
          "model_module": "@jupyter-widgets/controls",
          "model_name": "HBoxModel",
          "model_module_version": "1.5.0",
          "state": {
            "_view_name": "HBoxView",
            "_dom_classes": [],
            "_model_name": "HBoxModel",
            "_view_module": "@jupyter-widgets/controls",
            "_model_module_version": "1.5.0",
            "_view_count": null,
            "_view_module_version": "1.5.0",
            "box_style": "",
            "layout": "IPY_MODEL_f55c779ca0dd48d1ad4f8909c1f3194e",
            "_model_module": "@jupyter-widgets/controls",
            "children": [
              "IPY_MODEL_8b6d7b1d4b0448ea9f93879e879e14fe",
              "IPY_MODEL_9630b2f0409348e19487a1ae53d11c31",
              "IPY_MODEL_f5dbb60a320d42b2ace3ec9dceb92a27"
            ]
          }
        },
        "f55c779ca0dd48d1ad4f8909c1f3194e": {
          "model_module": "@jupyter-widgets/base",
          "model_name": "LayoutModel",
          "model_module_version": "1.2.0",
          "state": {
            "_view_name": "LayoutView",
            "grid_template_rows": null,
            "right": null,
            "justify_content": null,
            "_view_module": "@jupyter-widgets/base",
            "overflow": null,
            "_model_module_version": "1.2.0",
            "_view_count": null,
            "flex_flow": "row wrap",
            "width": "100%",
            "min_width": null,
            "border": null,
            "align_items": null,
            "bottom": null,
            "_model_module": "@jupyter-widgets/base",
            "top": null,
            "grid_column": null,
            "overflow_y": null,
            "overflow_x": null,
            "grid_auto_flow": null,
            "grid_area": null,
            "grid_template_columns": null,
            "flex": null,
            "_model_name": "LayoutModel",
            "justify_items": null,
            "grid_row": null,
            "max_height": null,
            "align_content": null,
            "visibility": null,
            "align_self": null,
            "height": null,
            "min_height": null,
            "padding": null,
            "grid_auto_rows": null,
            "grid_gap": null,
            "max_width": null,
            "order": null,
            "_view_module_version": "1.2.0",
            "grid_template_areas": null,
            "object_position": null,
            "object_fit": null,
            "grid_auto_columns": null,
            "margin": null,
            "display": "inline-flex",
            "left": null
          }
        },
        "8b6d7b1d4b0448ea9f93879e879e14fe": {
          "model_module": "@jupyter-widgets/controls",
          "model_name": "HTMLModel",
          "model_module_version": "1.5.0",
          "state": {
            "_view_name": "HTMLView",
            "style": "IPY_MODEL_3a332215d1634b04b4ff02259c241093",
            "_dom_classes": [],
            "description": "",
            "_model_name": "HTMLModel",
            "placeholder": "​",
            "_view_module": "@jupyter-widgets/controls",
            "_model_module_version": "1.5.0",
            "value": "Validation sanity check:   0%",
            "_view_count": null,
            "_view_module_version": "1.5.0",
            "description_tooltip": null,
            "_model_module": "@jupyter-widgets/controls",
            "layout": "IPY_MODEL_55cc18f3e893412aa3de0f5cea391d5b"
          }
        },
        "9630b2f0409348e19487a1ae53d11c31": {
          "model_module": "@jupyter-widgets/controls",
          "model_name": "FloatProgressModel",
          "model_module_version": "1.5.0",
          "state": {
            "_view_name": "ProgressView",
            "style": "IPY_MODEL_e54d33e7a41b40058888f4680d4c64cf",
            "_dom_classes": [],
            "description": "",
            "_model_name": "FloatProgressModel",
            "bar_style": "danger",
            "max": 2,
            "_view_module": "@jupyter-widgets/controls",
            "_model_module_version": "1.5.0",
            "value": 0,
            "_view_count": null,
            "_view_module_version": "1.5.0",
            "orientation": "horizontal",
            "min": 0,
            "description_tooltip": null,
            "_model_module": "@jupyter-widgets/controls",
            "layout": "IPY_MODEL_c64905eb585a4bd4828a8298a7ae2dc2"
          }
        },
        "f5dbb60a320d42b2ace3ec9dceb92a27": {
          "model_module": "@jupyter-widgets/controls",
          "model_name": "HTMLModel",
          "model_module_version": "1.5.0",
          "state": {
            "_view_name": "HTMLView",
            "style": "IPY_MODEL_bb4a5bd417b84ebd9074c240a0a34264",
            "_dom_classes": [],
            "description": "",
            "_model_name": "HTMLModel",
            "placeholder": "​",
            "_view_module": "@jupyter-widgets/controls",
            "_model_module_version": "1.5.0",
            "value": " 0/2 [00:55&lt;?, ?it/s]",
            "_view_count": null,
            "_view_module_version": "1.5.0",
            "description_tooltip": null,
            "_model_module": "@jupyter-widgets/controls",
            "layout": "IPY_MODEL_9aa3912ccf90436e8c2bce44469e3a50"
          }
        },
        "3a332215d1634b04b4ff02259c241093": {
          "model_module": "@jupyter-widgets/controls",
          "model_name": "DescriptionStyleModel",
          "model_module_version": "1.5.0",
          "state": {
            "_view_name": "StyleView",
            "_model_name": "DescriptionStyleModel",
            "description_width": "",
            "_view_module": "@jupyter-widgets/base",
            "_model_module_version": "1.5.0",
            "_view_count": null,
            "_view_module_version": "1.2.0",
            "_model_module": "@jupyter-widgets/controls"
          }
        },
        "55cc18f3e893412aa3de0f5cea391d5b": {
          "model_module": "@jupyter-widgets/base",
          "model_name": "LayoutModel",
          "model_module_version": "1.2.0",
          "state": {
            "_view_name": "LayoutView",
            "grid_template_rows": null,
            "right": null,
            "justify_content": null,
            "_view_module": "@jupyter-widgets/base",
            "overflow": null,
            "_model_module_version": "1.2.0",
            "_view_count": null,
            "flex_flow": null,
            "width": null,
            "min_width": null,
            "border": null,
            "align_items": null,
            "bottom": null,
            "_model_module": "@jupyter-widgets/base",
            "top": null,
            "grid_column": null,
            "overflow_y": null,
            "overflow_x": null,
            "grid_auto_flow": null,
            "grid_area": null,
            "grid_template_columns": null,
            "flex": null,
            "_model_name": "LayoutModel",
            "justify_items": null,
            "grid_row": null,
            "max_height": null,
            "align_content": null,
            "visibility": null,
            "align_self": null,
            "height": null,
            "min_height": null,
            "padding": null,
            "grid_auto_rows": null,
            "grid_gap": null,
            "max_width": null,
            "order": null,
            "_view_module_version": "1.2.0",
            "grid_template_areas": null,
            "object_position": null,
            "object_fit": null,
            "grid_auto_columns": null,
            "margin": null,
            "display": null,
            "left": null
          }
        },
        "e54d33e7a41b40058888f4680d4c64cf": {
          "model_module": "@jupyter-widgets/controls",
          "model_name": "ProgressStyleModel",
          "model_module_version": "1.5.0",
          "state": {
            "_view_name": "StyleView",
            "_model_name": "ProgressStyleModel",
            "description_width": "",
            "_view_module": "@jupyter-widgets/base",
            "_model_module_version": "1.5.0",
            "_view_count": null,
            "_view_module_version": "1.2.0",
            "bar_color": null,
            "_model_module": "@jupyter-widgets/controls"
          }
        },
        "c64905eb585a4bd4828a8298a7ae2dc2": {
          "model_module": "@jupyter-widgets/base",
          "model_name": "LayoutModel",
          "model_module_version": "1.2.0",
          "state": {
            "_view_name": "LayoutView",
            "grid_template_rows": null,
            "right": null,
            "justify_content": null,
            "_view_module": "@jupyter-widgets/base",
            "overflow": null,
            "_model_module_version": "1.2.0",
            "_view_count": null,
            "flex_flow": null,
            "width": null,
            "min_width": null,
            "border": null,
            "align_items": null,
            "bottom": null,
            "_model_module": "@jupyter-widgets/base",
            "top": null,
            "grid_column": null,
            "overflow_y": null,
            "overflow_x": null,
            "grid_auto_flow": null,
            "grid_area": null,
            "grid_template_columns": null,
            "flex": "2",
            "_model_name": "LayoutModel",
            "justify_items": null,
            "grid_row": null,
            "max_height": null,
            "align_content": null,
            "visibility": null,
            "align_self": null,
            "height": null,
            "min_height": null,
            "padding": null,
            "grid_auto_rows": null,
            "grid_gap": null,
            "max_width": null,
            "order": null,
            "_view_module_version": "1.2.0",
            "grid_template_areas": null,
            "object_position": null,
            "object_fit": null,
            "grid_auto_columns": null,
            "margin": null,
            "display": null,
            "left": null
          }
        },
        "bb4a5bd417b84ebd9074c240a0a34264": {
          "model_module": "@jupyter-widgets/controls",
          "model_name": "DescriptionStyleModel",
          "model_module_version": "1.5.0",
          "state": {
            "_view_name": "StyleView",
            "_model_name": "DescriptionStyleModel",
            "description_width": "",
            "_view_module": "@jupyter-widgets/base",
            "_model_module_version": "1.5.0",
            "_view_count": null,
            "_view_module_version": "1.2.0",
            "_model_module": "@jupyter-widgets/controls"
          }
        },
        "9aa3912ccf90436e8c2bce44469e3a50": {
          "model_module": "@jupyter-widgets/base",
          "model_name": "LayoutModel",
          "model_module_version": "1.2.0",
          "state": {
            "_view_name": "LayoutView",
            "grid_template_rows": null,
            "right": null,
            "justify_content": null,
            "_view_module": "@jupyter-widgets/base",
            "overflow": null,
            "_model_module_version": "1.2.0",
            "_view_count": null,
            "flex_flow": null,
            "width": null,
            "min_width": null,
            "border": null,
            "align_items": null,
            "bottom": null,
            "_model_module": "@jupyter-widgets/base",
            "top": null,
            "grid_column": null,
            "overflow_y": null,
            "overflow_x": null,
            "grid_auto_flow": null,
            "grid_area": null,
            "grid_template_columns": null,
            "flex": null,
            "_model_name": "LayoutModel",
            "justify_items": null,
            "grid_row": null,
            "max_height": null,
            "align_content": null,
            "visibility": null,
            "align_self": null,
            "height": null,
            "min_height": null,
            "padding": null,
            "grid_auto_rows": null,
            "grid_gap": null,
            "max_width": null,
            "order": null,
            "_view_module_version": "1.2.0",
            "grid_template_areas": null,
            "object_position": null,
            "object_fit": null,
            "grid_auto_columns": null,
            "margin": null,
            "display": null,
            "left": null
          }
        },
        "70465f5a33fc4ad192580b8ee6abdcbd": {
          "model_module": "@jupyter-widgets/controls",
          "model_name": "HBoxModel",
          "model_module_version": "1.5.0",
          "state": {
            "_view_name": "HBoxView",
            "_dom_classes": [],
            "_model_name": "HBoxModel",
            "_view_module": "@jupyter-widgets/controls",
            "_model_module_version": "1.5.0",
            "_view_count": null,
            "_view_module_version": "1.5.0",
            "box_style": "",
            "layout": "IPY_MODEL_3382662c60104573bfd1871d81780bc7",
            "_model_module": "@jupyter-widgets/controls",
            "children": [
              "IPY_MODEL_dcb1bf3f0bd740beb1d8120048077b7c",
              "IPY_MODEL_f9a60efbbf0e454d9a6ebaf372daad2f",
              "IPY_MODEL_26c84af4ba6b4646b8d5547b22e0e035"
            ]
          }
        },
        "3382662c60104573bfd1871d81780bc7": {
          "model_module": "@jupyter-widgets/base",
          "model_name": "LayoutModel",
          "model_module_version": "1.2.0",
          "state": {
            "_view_name": "LayoutView",
            "grid_template_rows": null,
            "right": null,
            "justify_content": null,
            "_view_module": "@jupyter-widgets/base",
            "overflow": null,
            "_model_module_version": "1.2.0",
            "_view_count": null,
            "flex_flow": "row wrap",
            "width": "100%",
            "min_width": null,
            "border": null,
            "align_items": null,
            "bottom": null,
            "_model_module": "@jupyter-widgets/base",
            "top": null,
            "grid_column": null,
            "overflow_y": null,
            "overflow_x": null,
            "grid_auto_flow": null,
            "grid_area": null,
            "grid_template_columns": null,
            "flex": null,
            "_model_name": "LayoutModel",
            "justify_items": null,
            "grid_row": null,
            "max_height": null,
            "align_content": null,
            "visibility": null,
            "align_self": null,
            "height": null,
            "min_height": null,
            "padding": null,
            "grid_auto_rows": null,
            "grid_gap": null,
            "max_width": null,
            "order": null,
            "_view_module_version": "1.2.0",
            "grid_template_areas": null,
            "object_position": null,
            "object_fit": null,
            "grid_auto_columns": null,
            "margin": null,
            "display": "inline-flex",
            "left": null
          }
        },
        "dcb1bf3f0bd740beb1d8120048077b7c": {
          "model_module": "@jupyter-widgets/controls",
          "model_name": "HTMLModel",
          "model_module_version": "1.5.0",
          "state": {
            "_view_name": "HTMLView",
            "style": "IPY_MODEL_465e9406c3f64581bb7716c36a52c2fb",
            "_dom_classes": [],
            "description": "",
            "_model_name": "HTMLModel",
            "placeholder": "​",
            "_view_module": "@jupyter-widgets/controls",
            "_model_module_version": "1.5.0",
            "value": "Epoch 4:   0%",
            "_view_count": null,
            "_view_module_version": "1.5.0",
            "description_tooltip": null,
            "_model_module": "@jupyter-widgets/controls",
            "layout": "IPY_MODEL_9185e9bb704d482ea6ed9e5f3e8d9fdf"
          }
        },
        "f9a60efbbf0e454d9a6ebaf372daad2f": {
          "model_module": "@jupyter-widgets/controls",
          "model_name": "FloatProgressModel",
          "model_module_version": "1.5.0",
          "state": {
            "_view_name": "ProgressView",
            "style": "IPY_MODEL_cae05d7e8373456a982f0bfd62c51068",
            "_dom_classes": [],
            "description": "",
            "_model_name": "FloatProgressModel",
            "bar_style": "",
            "max": 18,
            "_view_module": "@jupyter-widgets/controls",
            "_model_module_version": "1.5.0",
            "value": 0,
            "_view_count": null,
            "_view_module_version": "1.5.0",
            "orientation": "horizontal",
            "min": 0,
            "description_tooltip": null,
            "_model_module": "@jupyter-widgets/controls",
            "layout": "IPY_MODEL_b8c0f9b51cfb468ab26ba19f34db61ad"
          }
        },
        "26c84af4ba6b4646b8d5547b22e0e035": {
          "model_module": "@jupyter-widgets/controls",
          "model_name": "HTMLModel",
          "model_module_version": "1.5.0",
          "state": {
            "_view_name": "HTMLView",
            "style": "IPY_MODEL_6a25c1401a28474abb6008be7804695e",
            "_dom_classes": [],
            "description": "",
            "_model_name": "HTMLModel",
            "placeholder": "​",
            "_view_module": "@jupyter-widgets/controls",
            "_model_module_version": "1.5.0",
            "value": " 0/18 [00:00&lt;00:00, 503.94it/s, loss=0.222, v_num=0, train_loss=0.216, val_loss=0.226]",
            "_view_count": null,
            "_view_module_version": "1.5.0",
            "description_tooltip": null,
            "_model_module": "@jupyter-widgets/controls",
            "layout": "IPY_MODEL_2ff9a81354574dbcb7d5ce8a8e630409"
          }
        },
        "465e9406c3f64581bb7716c36a52c2fb": {
          "model_module": "@jupyter-widgets/controls",
          "model_name": "DescriptionStyleModel",
          "model_module_version": "1.5.0",
          "state": {
            "_view_name": "StyleView",
            "_model_name": "DescriptionStyleModel",
            "description_width": "",
            "_view_module": "@jupyter-widgets/base",
            "_model_module_version": "1.5.0",
            "_view_count": null,
            "_view_module_version": "1.2.0",
            "_model_module": "@jupyter-widgets/controls"
          }
        },
        "9185e9bb704d482ea6ed9e5f3e8d9fdf": {
          "model_module": "@jupyter-widgets/base",
          "model_name": "LayoutModel",
          "model_module_version": "1.2.0",
          "state": {
            "_view_name": "LayoutView",
            "grid_template_rows": null,
            "right": null,
            "justify_content": null,
            "_view_module": "@jupyter-widgets/base",
            "overflow": null,
            "_model_module_version": "1.2.0",
            "_view_count": null,
            "flex_flow": null,
            "width": null,
            "min_width": null,
            "border": null,
            "align_items": null,
            "bottom": null,
            "_model_module": "@jupyter-widgets/base",
            "top": null,
            "grid_column": null,
            "overflow_y": null,
            "overflow_x": null,
            "grid_auto_flow": null,
            "grid_area": null,
            "grid_template_columns": null,
            "flex": null,
            "_model_name": "LayoutModel",
            "justify_items": null,
            "grid_row": null,
            "max_height": null,
            "align_content": null,
            "visibility": null,
            "align_self": null,
            "height": null,
            "min_height": null,
            "padding": null,
            "grid_auto_rows": null,
            "grid_gap": null,
            "max_width": null,
            "order": null,
            "_view_module_version": "1.2.0",
            "grid_template_areas": null,
            "object_position": null,
            "object_fit": null,
            "grid_auto_columns": null,
            "margin": null,
            "display": null,
            "left": null
          }
        },
        "cae05d7e8373456a982f0bfd62c51068": {
          "model_module": "@jupyter-widgets/controls",
          "model_name": "ProgressStyleModel",
          "model_module_version": "1.5.0",
          "state": {
            "_view_name": "StyleView",
            "_model_name": "ProgressStyleModel",
            "description_width": "",
            "_view_module": "@jupyter-widgets/base",
            "_model_module_version": "1.5.0",
            "_view_count": null,
            "_view_module_version": "1.2.0",
            "bar_color": null,
            "_model_module": "@jupyter-widgets/controls"
          }
        },
        "b8c0f9b51cfb468ab26ba19f34db61ad": {
          "model_module": "@jupyter-widgets/base",
          "model_name": "LayoutModel",
          "model_module_version": "1.2.0",
          "state": {
            "_view_name": "LayoutView",
            "grid_template_rows": null,
            "right": null,
            "justify_content": null,
            "_view_module": "@jupyter-widgets/base",
            "overflow": null,
            "_model_module_version": "1.2.0",
            "_view_count": null,
            "flex_flow": null,
            "width": null,
            "min_width": null,
            "border": null,
            "align_items": null,
            "bottom": null,
            "_model_module": "@jupyter-widgets/base",
            "top": null,
            "grid_column": null,
            "overflow_y": null,
            "overflow_x": null,
            "grid_auto_flow": null,
            "grid_area": null,
            "grid_template_columns": null,
            "flex": "2",
            "_model_name": "LayoutModel",
            "justify_items": null,
            "grid_row": null,
            "max_height": null,
            "align_content": null,
            "visibility": null,
            "align_self": null,
            "height": null,
            "min_height": null,
            "padding": null,
            "grid_auto_rows": null,
            "grid_gap": null,
            "max_width": null,
            "order": null,
            "_view_module_version": "1.2.0",
            "grid_template_areas": null,
            "object_position": null,
            "object_fit": null,
            "grid_auto_columns": null,
            "margin": null,
            "display": null,
            "left": null
          }
        },
        "6a25c1401a28474abb6008be7804695e": {
          "model_module": "@jupyter-widgets/controls",
          "model_name": "DescriptionStyleModel",
          "model_module_version": "1.5.0",
          "state": {
            "_view_name": "StyleView",
            "_model_name": "DescriptionStyleModel",
            "description_width": "",
            "_view_module": "@jupyter-widgets/base",
            "_model_module_version": "1.5.0",
            "_view_count": null,
            "_view_module_version": "1.2.0",
            "_model_module": "@jupyter-widgets/controls"
          }
        },
        "2ff9a81354574dbcb7d5ce8a8e630409": {
          "model_module": "@jupyter-widgets/base",
          "model_name": "LayoutModel",
          "model_module_version": "1.2.0",
          "state": {
            "_view_name": "LayoutView",
            "grid_template_rows": null,
            "right": null,
            "justify_content": null,
            "_view_module": "@jupyter-widgets/base",
            "overflow": null,
            "_model_module_version": "1.2.0",
            "_view_count": null,
            "flex_flow": null,
            "width": null,
            "min_width": null,
            "border": null,
            "align_items": null,
            "bottom": null,
            "_model_module": "@jupyter-widgets/base",
            "top": null,
            "grid_column": null,
            "overflow_y": null,
            "overflow_x": null,
            "grid_auto_flow": null,
            "grid_area": null,
            "grid_template_columns": null,
            "flex": null,
            "_model_name": "LayoutModel",
            "justify_items": null,
            "grid_row": null,
            "max_height": null,
            "align_content": null,
            "visibility": null,
            "align_self": null,
            "height": null,
            "min_height": null,
            "padding": null,
            "grid_auto_rows": null,
            "grid_gap": null,
            "max_width": null,
            "order": null,
            "_view_module_version": "1.2.0",
            "grid_template_areas": null,
            "object_position": null,
            "object_fit": null,
            "grid_auto_columns": null,
            "margin": null,
            "display": null,
            "left": null
          }
        },
        "ea519ec9d52d4bba973af3c01951f4fe": {
          "model_module": "@jupyter-widgets/controls",
          "model_name": "HBoxModel",
          "model_module_version": "1.5.0",
          "state": {
            "_view_name": "HBoxView",
            "_dom_classes": [],
            "_model_name": "HBoxModel",
            "_view_module": "@jupyter-widgets/controls",
            "_model_module_version": "1.5.0",
            "_view_count": null,
            "_view_module_version": "1.5.0",
            "box_style": "",
            "layout": "IPY_MODEL_bcde248a70864405a2d9fa4aaa5b225b",
            "_model_module": "@jupyter-widgets/controls",
            "children": [
              "IPY_MODEL_eb98db61c371499eaa06e97cbc37d9a2",
              "IPY_MODEL_4f49640703a147e4839e6151c56dfc1f",
              "IPY_MODEL_1314da378bd544e5a818be378537ac0a"
            ]
          }
        },
        "bcde248a70864405a2d9fa4aaa5b225b": {
          "model_module": "@jupyter-widgets/base",
          "model_name": "LayoutModel",
          "model_module_version": "1.2.0",
          "state": {
            "_view_name": "LayoutView",
            "grid_template_rows": null,
            "right": null,
            "justify_content": null,
            "_view_module": "@jupyter-widgets/base",
            "overflow": null,
            "_model_module_version": "1.2.0",
            "_view_count": null,
            "flex_flow": "row wrap",
            "width": "100%",
            "min_width": null,
            "border": null,
            "align_items": null,
            "bottom": null,
            "_model_module": "@jupyter-widgets/base",
            "top": null,
            "grid_column": null,
            "overflow_y": null,
            "overflow_x": null,
            "grid_auto_flow": null,
            "grid_area": null,
            "grid_template_columns": null,
            "flex": null,
            "_model_name": "LayoutModel",
            "justify_items": null,
            "grid_row": null,
            "max_height": null,
            "align_content": null,
            "visibility": null,
            "align_self": null,
            "height": null,
            "min_height": null,
            "padding": null,
            "grid_auto_rows": null,
            "grid_gap": null,
            "max_width": null,
            "order": null,
            "_view_module_version": "1.2.0",
            "grid_template_areas": null,
            "object_position": null,
            "object_fit": null,
            "grid_auto_columns": null,
            "margin": null,
            "display": "inline-flex",
            "left": null
          }
        },
        "eb98db61c371499eaa06e97cbc37d9a2": {
          "model_module": "@jupyter-widgets/controls",
          "model_name": "HTMLModel",
          "model_module_version": "1.5.0",
          "state": {
            "_view_name": "HTMLView",
            "style": "IPY_MODEL_eec6b00e817e4abe9a54dacdd4477bac",
            "_dom_classes": [],
            "description": "",
            "_model_name": "HTMLModel",
            "placeholder": "​",
            "_view_module": "@jupyter-widgets/controls",
            "_model_module_version": "1.5.0",
            "value": "Validating: 100%",
            "_view_count": null,
            "_view_module_version": "1.5.0",
            "description_tooltip": null,
            "_model_module": "@jupyter-widgets/controls",
            "layout": "IPY_MODEL_1b87570b22594818ab47e0bf7bb24157"
          }
        },
        "4f49640703a147e4839e6151c56dfc1f": {
          "model_module": "@jupyter-widgets/controls",
          "model_name": "FloatProgressModel",
          "model_module_version": "1.5.0",
          "state": {
            "_view_name": "ProgressView",
            "style": "IPY_MODEL_5702a529a87846d99654fad5aaa3cbb4",
            "_dom_classes": [],
            "description": "",
            "_model_name": "FloatProgressModel",
            "bar_style": "",
            "max": 9,
            "_view_module": "@jupyter-widgets/controls",
            "_model_module_version": "1.5.0",
            "value": 9,
            "_view_count": null,
            "_view_module_version": "1.5.0",
            "orientation": "horizontal",
            "min": 0,
            "description_tooltip": null,
            "_model_module": "@jupyter-widgets/controls",
            "layout": "IPY_MODEL_028504cd8b92413c8abb5e6b7cd38d7e"
          }
        },
        "1314da378bd544e5a818be378537ac0a": {
          "model_module": "@jupyter-widgets/controls",
          "model_name": "HTMLModel",
          "model_module_version": "1.5.0",
          "state": {
            "_view_name": "HTMLView",
            "style": "IPY_MODEL_83da54278b364ca7a87bd512e90a4f84",
            "_dom_classes": [],
            "description": "",
            "_model_name": "HTMLModel",
            "placeholder": "​",
            "_view_module": "@jupyter-widgets/controls",
            "_model_module_version": "1.5.0",
            "value": " 9/9 [01:00&lt;00:00,  6.76s/it]",
            "_view_count": null,
            "_view_module_version": "1.5.0",
            "description_tooltip": null,
            "_model_module": "@jupyter-widgets/controls",
            "layout": "IPY_MODEL_58394da5a9ef4ed3aeb39f65fbfea9b1"
          }
        },
        "eec6b00e817e4abe9a54dacdd4477bac": {
          "model_module": "@jupyter-widgets/controls",
          "model_name": "DescriptionStyleModel",
          "model_module_version": "1.5.0",
          "state": {
            "_view_name": "StyleView",
            "_model_name": "DescriptionStyleModel",
            "description_width": "",
            "_view_module": "@jupyter-widgets/base",
            "_model_module_version": "1.5.0",
            "_view_count": null,
            "_view_module_version": "1.2.0",
            "_model_module": "@jupyter-widgets/controls"
          }
        },
        "1b87570b22594818ab47e0bf7bb24157": {
          "model_module": "@jupyter-widgets/base",
          "model_name": "LayoutModel",
          "model_module_version": "1.2.0",
          "state": {
            "_view_name": "LayoutView",
            "grid_template_rows": null,
            "right": null,
            "justify_content": null,
            "_view_module": "@jupyter-widgets/base",
            "overflow": null,
            "_model_module_version": "1.2.0",
            "_view_count": null,
            "flex_flow": null,
            "width": null,
            "min_width": null,
            "border": null,
            "align_items": null,
            "bottom": null,
            "_model_module": "@jupyter-widgets/base",
            "top": null,
            "grid_column": null,
            "overflow_y": null,
            "overflow_x": null,
            "grid_auto_flow": null,
            "grid_area": null,
            "grid_template_columns": null,
            "flex": null,
            "_model_name": "LayoutModel",
            "justify_items": null,
            "grid_row": null,
            "max_height": null,
            "align_content": null,
            "visibility": null,
            "align_self": null,
            "height": null,
            "min_height": null,
            "padding": null,
            "grid_auto_rows": null,
            "grid_gap": null,
            "max_width": null,
            "order": null,
            "_view_module_version": "1.2.0",
            "grid_template_areas": null,
            "object_position": null,
            "object_fit": null,
            "grid_auto_columns": null,
            "margin": null,
            "display": null,
            "left": null
          }
        },
        "5702a529a87846d99654fad5aaa3cbb4": {
          "model_module": "@jupyter-widgets/controls",
          "model_name": "ProgressStyleModel",
          "model_module_version": "1.5.0",
          "state": {
            "_view_name": "StyleView",
            "_model_name": "ProgressStyleModel",
            "description_width": "",
            "_view_module": "@jupyter-widgets/base",
            "_model_module_version": "1.5.0",
            "_view_count": null,
            "_view_module_version": "1.2.0",
            "bar_color": null,
            "_model_module": "@jupyter-widgets/controls"
          }
        },
        "028504cd8b92413c8abb5e6b7cd38d7e": {
          "model_module": "@jupyter-widgets/base",
          "model_name": "LayoutModel",
          "model_module_version": "1.2.0",
          "state": {
            "_view_name": "LayoutView",
            "grid_template_rows": null,
            "right": null,
            "justify_content": null,
            "_view_module": "@jupyter-widgets/base",
            "overflow": null,
            "_model_module_version": "1.2.0",
            "_view_count": null,
            "flex_flow": null,
            "width": null,
            "min_width": null,
            "border": null,
            "align_items": null,
            "bottom": null,
            "_model_module": "@jupyter-widgets/base",
            "top": null,
            "grid_column": null,
            "overflow_y": null,
            "overflow_x": null,
            "grid_auto_flow": null,
            "grid_area": null,
            "grid_template_columns": null,
            "flex": "2",
            "_model_name": "LayoutModel",
            "justify_items": null,
            "grid_row": null,
            "max_height": null,
            "align_content": null,
            "visibility": null,
            "align_self": null,
            "height": null,
            "min_height": null,
            "padding": null,
            "grid_auto_rows": null,
            "grid_gap": null,
            "max_width": null,
            "order": null,
            "_view_module_version": "1.2.0",
            "grid_template_areas": null,
            "object_position": null,
            "object_fit": null,
            "grid_auto_columns": null,
            "margin": null,
            "display": null,
            "left": null
          }
        },
        "83da54278b364ca7a87bd512e90a4f84": {
          "model_module": "@jupyter-widgets/controls",
          "model_name": "DescriptionStyleModel",
          "model_module_version": "1.5.0",
          "state": {
            "_view_name": "StyleView",
            "_model_name": "DescriptionStyleModel",
            "description_width": "",
            "_view_module": "@jupyter-widgets/base",
            "_model_module_version": "1.5.0",
            "_view_count": null,
            "_view_module_version": "1.2.0",
            "_model_module": "@jupyter-widgets/controls"
          }
        },
        "58394da5a9ef4ed3aeb39f65fbfea9b1": {
          "model_module": "@jupyter-widgets/base",
          "model_name": "LayoutModel",
          "model_module_version": "1.2.0",
          "state": {
            "_view_name": "LayoutView",
            "grid_template_rows": null,
            "right": null,
            "justify_content": null,
            "_view_module": "@jupyter-widgets/base",
            "overflow": null,
            "_model_module_version": "1.2.0",
            "_view_count": null,
            "flex_flow": null,
            "width": null,
            "min_width": null,
            "border": null,
            "align_items": null,
            "bottom": null,
            "_model_module": "@jupyter-widgets/base",
            "top": null,
            "grid_column": null,
            "overflow_y": null,
            "overflow_x": null,
            "grid_auto_flow": null,
            "grid_area": null,
            "grid_template_columns": null,
            "flex": null,
            "_model_name": "LayoutModel",
            "justify_items": null,
            "grid_row": null,
            "max_height": null,
            "align_content": null,
            "visibility": null,
            "align_self": null,
            "height": null,
            "min_height": null,
            "padding": null,
            "grid_auto_rows": null,
            "grid_gap": null,
            "max_width": null,
            "order": null,
            "_view_module_version": "1.2.0",
            "grid_template_areas": null,
            "object_position": null,
            "object_fit": null,
            "grid_auto_columns": null,
            "margin": null,
            "display": null,
            "left": null
          }
        },
        "b772966fac8a43e8b88c8f099bdf7c61": {
          "model_module": "@jupyter-widgets/controls",
          "model_name": "HBoxModel",
          "model_module_version": "1.5.0",
          "state": {
            "_view_name": "HBoxView",
            "_dom_classes": [],
            "_model_name": "HBoxModel",
            "_view_module": "@jupyter-widgets/controls",
            "_model_module_version": "1.5.0",
            "_view_count": null,
            "_view_module_version": "1.5.0",
            "box_style": "",
            "layout": "IPY_MODEL_6aa0a6562dfb4fa8a3264dc78c38a4b6",
            "_model_module": "@jupyter-widgets/controls",
            "children": [
              "IPY_MODEL_20b56bd597b14dcaa779ccbf61062b1d",
              "IPY_MODEL_3873900fec334efcbcecdd370c1eb21d",
              "IPY_MODEL_38f46e0195794ee2b8b33d6d312562eb"
            ]
          }
        },
        "6aa0a6562dfb4fa8a3264dc78c38a4b6": {
          "model_module": "@jupyter-widgets/base",
          "model_name": "LayoutModel",
          "model_module_version": "1.2.0",
          "state": {
            "_view_name": "LayoutView",
            "grid_template_rows": null,
            "right": null,
            "justify_content": null,
            "_view_module": "@jupyter-widgets/base",
            "overflow": null,
            "_model_module_version": "1.2.0",
            "_view_count": null,
            "flex_flow": "row wrap",
            "width": "100%",
            "min_width": null,
            "border": null,
            "align_items": null,
            "bottom": null,
            "_model_module": "@jupyter-widgets/base",
            "top": null,
            "grid_column": null,
            "overflow_y": null,
            "overflow_x": null,
            "grid_auto_flow": null,
            "grid_area": null,
            "grid_template_columns": null,
            "flex": null,
            "_model_name": "LayoutModel",
            "justify_items": null,
            "grid_row": null,
            "max_height": null,
            "align_content": null,
            "visibility": null,
            "align_self": null,
            "height": null,
            "min_height": null,
            "padding": null,
            "grid_auto_rows": null,
            "grid_gap": null,
            "max_width": null,
            "order": null,
            "_view_module_version": "1.2.0",
            "grid_template_areas": null,
            "object_position": null,
            "object_fit": null,
            "grid_auto_columns": null,
            "margin": null,
            "display": "inline-flex",
            "left": null
          }
        },
        "20b56bd597b14dcaa779ccbf61062b1d": {
          "model_module": "@jupyter-widgets/controls",
          "model_name": "HTMLModel",
          "model_module_version": "1.5.0",
          "state": {
            "_view_name": "HTMLView",
            "style": "IPY_MODEL_23f7506b14d945568ba51dbc56d0c079",
            "_dom_classes": [],
            "description": "",
            "_model_name": "HTMLModel",
            "placeholder": "​",
            "_view_module": "@jupyter-widgets/controls",
            "_model_module_version": "1.5.0",
            "value": "Validating: 100%",
            "_view_count": null,
            "_view_module_version": "1.5.0",
            "description_tooltip": null,
            "_model_module": "@jupyter-widgets/controls",
            "layout": "IPY_MODEL_3aafc3f2c47d4b0a97f1c9e19f606753"
          }
        },
        "3873900fec334efcbcecdd370c1eb21d": {
          "model_module": "@jupyter-widgets/controls",
          "model_name": "FloatProgressModel",
          "model_module_version": "1.5.0",
          "state": {
            "_view_name": "ProgressView",
            "style": "IPY_MODEL_94eac1db8e09444aa40776bc7dfb9a07",
            "_dom_classes": [],
            "description": "",
            "_model_name": "FloatProgressModel",
            "bar_style": "",
            "max": 9,
            "_view_module": "@jupyter-widgets/controls",
            "_model_module_version": "1.5.0",
            "value": 9,
            "_view_count": null,
            "_view_module_version": "1.5.0",
            "orientation": "horizontal",
            "min": 0,
            "description_tooltip": null,
            "_model_module": "@jupyter-widgets/controls",
            "layout": "IPY_MODEL_34991b2e1b2340a686e3f1672249461f"
          }
        },
        "38f46e0195794ee2b8b33d6d312562eb": {
          "model_module": "@jupyter-widgets/controls",
          "model_name": "HTMLModel",
          "model_module_version": "1.5.0",
          "state": {
            "_view_name": "HTMLView",
            "style": "IPY_MODEL_545fcaa91cee4e7fb8ba51ad9d4d3178",
            "_dom_classes": [],
            "description": "",
            "_model_name": "HTMLModel",
            "placeholder": "​",
            "_view_module": "@jupyter-widgets/controls",
            "_model_module_version": "1.5.0",
            "value": " 9/9 [01:12&lt;00:00,  8.11s/it]",
            "_view_count": null,
            "_view_module_version": "1.5.0",
            "description_tooltip": null,
            "_model_module": "@jupyter-widgets/controls",
            "layout": "IPY_MODEL_c5457db9e80d4a8b9bb6cc73a1a15880"
          }
        },
        "23f7506b14d945568ba51dbc56d0c079": {
          "model_module": "@jupyter-widgets/controls",
          "model_name": "DescriptionStyleModel",
          "model_module_version": "1.5.0",
          "state": {
            "_view_name": "StyleView",
            "_model_name": "DescriptionStyleModel",
            "description_width": "",
            "_view_module": "@jupyter-widgets/base",
            "_model_module_version": "1.5.0",
            "_view_count": null,
            "_view_module_version": "1.2.0",
            "_model_module": "@jupyter-widgets/controls"
          }
        },
        "3aafc3f2c47d4b0a97f1c9e19f606753": {
          "model_module": "@jupyter-widgets/base",
          "model_name": "LayoutModel",
          "model_module_version": "1.2.0",
          "state": {
            "_view_name": "LayoutView",
            "grid_template_rows": null,
            "right": null,
            "justify_content": null,
            "_view_module": "@jupyter-widgets/base",
            "overflow": null,
            "_model_module_version": "1.2.0",
            "_view_count": null,
            "flex_flow": null,
            "width": null,
            "min_width": null,
            "border": null,
            "align_items": null,
            "bottom": null,
            "_model_module": "@jupyter-widgets/base",
            "top": null,
            "grid_column": null,
            "overflow_y": null,
            "overflow_x": null,
            "grid_auto_flow": null,
            "grid_area": null,
            "grid_template_columns": null,
            "flex": null,
            "_model_name": "LayoutModel",
            "justify_items": null,
            "grid_row": null,
            "max_height": null,
            "align_content": null,
            "visibility": null,
            "align_self": null,
            "height": null,
            "min_height": null,
            "padding": null,
            "grid_auto_rows": null,
            "grid_gap": null,
            "max_width": null,
            "order": null,
            "_view_module_version": "1.2.0",
            "grid_template_areas": null,
            "object_position": null,
            "object_fit": null,
            "grid_auto_columns": null,
            "margin": null,
            "display": null,
            "left": null
          }
        },
        "94eac1db8e09444aa40776bc7dfb9a07": {
          "model_module": "@jupyter-widgets/controls",
          "model_name": "ProgressStyleModel",
          "model_module_version": "1.5.0",
          "state": {
            "_view_name": "StyleView",
            "_model_name": "ProgressStyleModel",
            "description_width": "",
            "_view_module": "@jupyter-widgets/base",
            "_model_module_version": "1.5.0",
            "_view_count": null,
            "_view_module_version": "1.2.0",
            "bar_color": null,
            "_model_module": "@jupyter-widgets/controls"
          }
        },
        "34991b2e1b2340a686e3f1672249461f": {
          "model_module": "@jupyter-widgets/base",
          "model_name": "LayoutModel",
          "model_module_version": "1.2.0",
          "state": {
            "_view_name": "LayoutView",
            "grid_template_rows": null,
            "right": null,
            "justify_content": null,
            "_view_module": "@jupyter-widgets/base",
            "overflow": null,
            "_model_module_version": "1.2.0",
            "_view_count": null,
            "flex_flow": null,
            "width": null,
            "min_width": null,
            "border": null,
            "align_items": null,
            "bottom": null,
            "_model_module": "@jupyter-widgets/base",
            "top": null,
            "grid_column": null,
            "overflow_y": null,
            "overflow_x": null,
            "grid_auto_flow": null,
            "grid_area": null,
            "grid_template_columns": null,
            "flex": "2",
            "_model_name": "LayoutModel",
            "justify_items": null,
            "grid_row": null,
            "max_height": null,
            "align_content": null,
            "visibility": null,
            "align_self": null,
            "height": null,
            "min_height": null,
            "padding": null,
            "grid_auto_rows": null,
            "grid_gap": null,
            "max_width": null,
            "order": null,
            "_view_module_version": "1.2.0",
            "grid_template_areas": null,
            "object_position": null,
            "object_fit": null,
            "grid_auto_columns": null,
            "margin": null,
            "display": null,
            "left": null
          }
        },
        "545fcaa91cee4e7fb8ba51ad9d4d3178": {
          "model_module": "@jupyter-widgets/controls",
          "model_name": "DescriptionStyleModel",
          "model_module_version": "1.5.0",
          "state": {
            "_view_name": "StyleView",
            "_model_name": "DescriptionStyleModel",
            "description_width": "",
            "_view_module": "@jupyter-widgets/base",
            "_model_module_version": "1.5.0",
            "_view_count": null,
            "_view_module_version": "1.2.0",
            "_model_module": "@jupyter-widgets/controls"
          }
        },
        "c5457db9e80d4a8b9bb6cc73a1a15880": {
          "model_module": "@jupyter-widgets/base",
          "model_name": "LayoutModel",
          "model_module_version": "1.2.0",
          "state": {
            "_view_name": "LayoutView",
            "grid_template_rows": null,
            "right": null,
            "justify_content": null,
            "_view_module": "@jupyter-widgets/base",
            "overflow": null,
            "_model_module_version": "1.2.0",
            "_view_count": null,
            "flex_flow": null,
            "width": null,
            "min_width": null,
            "border": null,
            "align_items": null,
            "bottom": null,
            "_model_module": "@jupyter-widgets/base",
            "top": null,
            "grid_column": null,
            "overflow_y": null,
            "overflow_x": null,
            "grid_auto_flow": null,
            "grid_area": null,
            "grid_template_columns": null,
            "flex": null,
            "_model_name": "LayoutModel",
            "justify_items": null,
            "grid_row": null,
            "max_height": null,
            "align_content": null,
            "visibility": null,
            "align_self": null,
            "height": null,
            "min_height": null,
            "padding": null,
            "grid_auto_rows": null,
            "grid_gap": null,
            "max_width": null,
            "order": null,
            "_view_module_version": "1.2.0",
            "grid_template_areas": null,
            "object_position": null,
            "object_fit": null,
            "grid_auto_columns": null,
            "margin": null,
            "display": null,
            "left": null
          }
        },
        "521572ad713d4382b79a60fb530d5561": {
          "model_module": "@jupyter-widgets/controls",
          "model_name": "HBoxModel",
          "model_module_version": "1.5.0",
          "state": {
            "_view_name": "HBoxView",
            "_dom_classes": [],
            "_model_name": "HBoxModel",
            "_view_module": "@jupyter-widgets/controls",
            "_model_module_version": "1.5.0",
            "_view_count": null,
            "_view_module_version": "1.5.0",
            "box_style": "",
            "layout": "IPY_MODEL_f4117ec7f38140a39393fc8a2423f1a4",
            "_model_module": "@jupyter-widgets/controls",
            "children": [
              "IPY_MODEL_90a1864bff454d6199f02580b61b0ac7",
              "IPY_MODEL_f1a49695600f4d8dadf34cca36561cec",
              "IPY_MODEL_0fa14e2fcee448fa976af6e032216625"
            ]
          }
        },
        "f4117ec7f38140a39393fc8a2423f1a4": {
          "model_module": "@jupyter-widgets/base",
          "model_name": "LayoutModel",
          "model_module_version": "1.2.0",
          "state": {
            "_view_name": "LayoutView",
            "grid_template_rows": null,
            "right": null,
            "justify_content": null,
            "_view_module": "@jupyter-widgets/base",
            "overflow": null,
            "_model_module_version": "1.2.0",
            "_view_count": null,
            "flex_flow": "row wrap",
            "width": "100%",
            "min_width": null,
            "border": null,
            "align_items": null,
            "bottom": null,
            "_model_module": "@jupyter-widgets/base",
            "top": null,
            "grid_column": null,
            "overflow_y": null,
            "overflow_x": null,
            "grid_auto_flow": null,
            "grid_area": null,
            "grid_template_columns": null,
            "flex": null,
            "_model_name": "LayoutModel",
            "justify_items": null,
            "grid_row": null,
            "max_height": null,
            "align_content": null,
            "visibility": null,
            "align_self": null,
            "height": null,
            "min_height": null,
            "padding": null,
            "grid_auto_rows": null,
            "grid_gap": null,
            "max_width": null,
            "order": null,
            "_view_module_version": "1.2.0",
            "grid_template_areas": null,
            "object_position": null,
            "object_fit": null,
            "grid_auto_columns": null,
            "margin": null,
            "display": "inline-flex",
            "left": null
          }
        },
        "90a1864bff454d6199f02580b61b0ac7": {
          "model_module": "@jupyter-widgets/controls",
          "model_name": "HTMLModel",
          "model_module_version": "1.5.0",
          "state": {
            "_view_name": "HTMLView",
            "style": "IPY_MODEL_858bf51e019b4926a46ab9358f1d113a",
            "_dom_classes": [],
            "description": "",
            "_model_name": "HTMLModel",
            "placeholder": "​",
            "_view_module": "@jupyter-widgets/controls",
            "_model_module_version": "1.5.0",
            "value": "Validating: 100%",
            "_view_count": null,
            "_view_module_version": "1.5.0",
            "description_tooltip": null,
            "_model_module": "@jupyter-widgets/controls",
            "layout": "IPY_MODEL_0511e83634644f0cb673f4a252266866"
          }
        },
        "f1a49695600f4d8dadf34cca36561cec": {
          "model_module": "@jupyter-widgets/controls",
          "model_name": "FloatProgressModel",
          "model_module_version": "1.5.0",
          "state": {
            "_view_name": "ProgressView",
            "style": "IPY_MODEL_f74f147256804144b2109201b1e63198",
            "_dom_classes": [],
            "description": "",
            "_model_name": "FloatProgressModel",
            "bar_style": "",
            "max": 9,
            "_view_module": "@jupyter-widgets/controls",
            "_model_module_version": "1.5.0",
            "value": 9,
            "_view_count": null,
            "_view_module_version": "1.5.0",
            "orientation": "horizontal",
            "min": 0,
            "description_tooltip": null,
            "_model_module": "@jupyter-widgets/controls",
            "layout": "IPY_MODEL_a5f43cd707bd4a3fb33118a66a82d264"
          }
        },
        "0fa14e2fcee448fa976af6e032216625": {
          "model_module": "@jupyter-widgets/controls",
          "model_name": "HTMLModel",
          "model_module_version": "1.5.0",
          "state": {
            "_view_name": "HTMLView",
            "style": "IPY_MODEL_0ecfd44cb9a24923bc3cc27238a47985",
            "_dom_classes": [],
            "description": "",
            "_model_name": "HTMLModel",
            "placeholder": "​",
            "_view_module": "@jupyter-widgets/controls",
            "_model_module_version": "1.5.0",
            "value": " 9/9 [01:03&lt;00:00,  7.02s/it]",
            "_view_count": null,
            "_view_module_version": "1.5.0",
            "description_tooltip": null,
            "_model_module": "@jupyter-widgets/controls",
            "layout": "IPY_MODEL_3d4b672346e743b2b9646427ed2e12fb"
          }
        },
        "858bf51e019b4926a46ab9358f1d113a": {
          "model_module": "@jupyter-widgets/controls",
          "model_name": "DescriptionStyleModel",
          "model_module_version": "1.5.0",
          "state": {
            "_view_name": "StyleView",
            "_model_name": "DescriptionStyleModel",
            "description_width": "",
            "_view_module": "@jupyter-widgets/base",
            "_model_module_version": "1.5.0",
            "_view_count": null,
            "_view_module_version": "1.2.0",
            "_model_module": "@jupyter-widgets/controls"
          }
        },
        "0511e83634644f0cb673f4a252266866": {
          "model_module": "@jupyter-widgets/base",
          "model_name": "LayoutModel",
          "model_module_version": "1.2.0",
          "state": {
            "_view_name": "LayoutView",
            "grid_template_rows": null,
            "right": null,
            "justify_content": null,
            "_view_module": "@jupyter-widgets/base",
            "overflow": null,
            "_model_module_version": "1.2.0",
            "_view_count": null,
            "flex_flow": null,
            "width": null,
            "min_width": null,
            "border": null,
            "align_items": null,
            "bottom": null,
            "_model_module": "@jupyter-widgets/base",
            "top": null,
            "grid_column": null,
            "overflow_y": null,
            "overflow_x": null,
            "grid_auto_flow": null,
            "grid_area": null,
            "grid_template_columns": null,
            "flex": null,
            "_model_name": "LayoutModel",
            "justify_items": null,
            "grid_row": null,
            "max_height": null,
            "align_content": null,
            "visibility": null,
            "align_self": null,
            "height": null,
            "min_height": null,
            "padding": null,
            "grid_auto_rows": null,
            "grid_gap": null,
            "max_width": null,
            "order": null,
            "_view_module_version": "1.2.0",
            "grid_template_areas": null,
            "object_position": null,
            "object_fit": null,
            "grid_auto_columns": null,
            "margin": null,
            "display": null,
            "left": null
          }
        },
        "f74f147256804144b2109201b1e63198": {
          "model_module": "@jupyter-widgets/controls",
          "model_name": "ProgressStyleModel",
          "model_module_version": "1.5.0",
          "state": {
            "_view_name": "StyleView",
            "_model_name": "ProgressStyleModel",
            "description_width": "",
            "_view_module": "@jupyter-widgets/base",
            "_model_module_version": "1.5.0",
            "_view_count": null,
            "_view_module_version": "1.2.0",
            "bar_color": null,
            "_model_module": "@jupyter-widgets/controls"
          }
        },
        "a5f43cd707bd4a3fb33118a66a82d264": {
          "model_module": "@jupyter-widgets/base",
          "model_name": "LayoutModel",
          "model_module_version": "1.2.0",
          "state": {
            "_view_name": "LayoutView",
            "grid_template_rows": null,
            "right": null,
            "justify_content": null,
            "_view_module": "@jupyter-widgets/base",
            "overflow": null,
            "_model_module_version": "1.2.0",
            "_view_count": null,
            "flex_flow": null,
            "width": null,
            "min_width": null,
            "border": null,
            "align_items": null,
            "bottom": null,
            "_model_module": "@jupyter-widgets/base",
            "top": null,
            "grid_column": null,
            "overflow_y": null,
            "overflow_x": null,
            "grid_auto_flow": null,
            "grid_area": null,
            "grid_template_columns": null,
            "flex": "2",
            "_model_name": "LayoutModel",
            "justify_items": null,
            "grid_row": null,
            "max_height": null,
            "align_content": null,
            "visibility": null,
            "align_self": null,
            "height": null,
            "min_height": null,
            "padding": null,
            "grid_auto_rows": null,
            "grid_gap": null,
            "max_width": null,
            "order": null,
            "_view_module_version": "1.2.0",
            "grid_template_areas": null,
            "object_position": null,
            "object_fit": null,
            "grid_auto_columns": null,
            "margin": null,
            "display": null,
            "left": null
          }
        },
        "0ecfd44cb9a24923bc3cc27238a47985": {
          "model_module": "@jupyter-widgets/controls",
          "model_name": "DescriptionStyleModel",
          "model_module_version": "1.5.0",
          "state": {
            "_view_name": "StyleView",
            "_model_name": "DescriptionStyleModel",
            "description_width": "",
            "_view_module": "@jupyter-widgets/base",
            "_model_module_version": "1.5.0",
            "_view_count": null,
            "_view_module_version": "1.2.0",
            "_model_module": "@jupyter-widgets/controls"
          }
        },
        "3d4b672346e743b2b9646427ed2e12fb": {
          "model_module": "@jupyter-widgets/base",
          "model_name": "LayoutModel",
          "model_module_version": "1.2.0",
          "state": {
            "_view_name": "LayoutView",
            "grid_template_rows": null,
            "right": null,
            "justify_content": null,
            "_view_module": "@jupyter-widgets/base",
            "overflow": null,
            "_model_module_version": "1.2.0",
            "_view_count": null,
            "flex_flow": null,
            "width": null,
            "min_width": null,
            "border": null,
            "align_items": null,
            "bottom": null,
            "_model_module": "@jupyter-widgets/base",
            "top": null,
            "grid_column": null,
            "overflow_y": null,
            "overflow_x": null,
            "grid_auto_flow": null,
            "grid_area": null,
            "grid_template_columns": null,
            "flex": null,
            "_model_name": "LayoutModel",
            "justify_items": null,
            "grid_row": null,
            "max_height": null,
            "align_content": null,
            "visibility": null,
            "align_self": null,
            "height": null,
            "min_height": null,
            "padding": null,
            "grid_auto_rows": null,
            "grid_gap": null,
            "max_width": null,
            "order": null,
            "_view_module_version": "1.2.0",
            "grid_template_areas": null,
            "object_position": null,
            "object_fit": null,
            "grid_auto_columns": null,
            "margin": null,
            "display": null,
            "left": null
          }
        },
        "51617b00efef430094497eb337396ec9": {
          "model_module": "@jupyter-widgets/controls",
          "model_name": "HBoxModel",
          "model_module_version": "1.5.0",
          "state": {
            "_view_name": "HBoxView",
            "_dom_classes": [],
            "_model_name": "HBoxModel",
            "_view_module": "@jupyter-widgets/controls",
            "_model_module_version": "1.5.0",
            "_view_count": null,
            "_view_module_version": "1.5.0",
            "box_style": "",
            "layout": "IPY_MODEL_79a6250d2ec54c1f8fb20e54f919c27e",
            "_model_module": "@jupyter-widgets/controls",
            "children": [
              "IPY_MODEL_f74bbe3317784d7cb21f4619f20d2f8b",
              "IPY_MODEL_b9260bd6db1644b8be884cf7498dbce1",
              "IPY_MODEL_4ecaa380e0af4ae18b730e243f0ece7a"
            ]
          }
        },
        "79a6250d2ec54c1f8fb20e54f919c27e": {
          "model_module": "@jupyter-widgets/base",
          "model_name": "LayoutModel",
          "model_module_version": "1.2.0",
          "state": {
            "_view_name": "LayoutView",
            "grid_template_rows": null,
            "right": null,
            "justify_content": null,
            "_view_module": "@jupyter-widgets/base",
            "overflow": null,
            "_model_module_version": "1.2.0",
            "_view_count": null,
            "flex_flow": "row wrap",
            "width": "100%",
            "min_width": null,
            "border": null,
            "align_items": null,
            "bottom": null,
            "_model_module": "@jupyter-widgets/base",
            "top": null,
            "grid_column": null,
            "overflow_y": null,
            "overflow_x": null,
            "grid_auto_flow": null,
            "grid_area": null,
            "grid_template_columns": null,
            "flex": null,
            "_model_name": "LayoutModel",
            "justify_items": null,
            "grid_row": null,
            "max_height": null,
            "align_content": null,
            "visibility": null,
            "align_self": null,
            "height": null,
            "min_height": null,
            "padding": null,
            "grid_auto_rows": null,
            "grid_gap": null,
            "max_width": null,
            "order": null,
            "_view_module_version": "1.2.0",
            "grid_template_areas": null,
            "object_position": null,
            "object_fit": null,
            "grid_auto_columns": null,
            "margin": null,
            "display": "inline-flex",
            "left": null
          }
        },
        "f74bbe3317784d7cb21f4619f20d2f8b": {
          "model_module": "@jupyter-widgets/controls",
          "model_name": "HTMLModel",
          "model_module_version": "1.5.0",
          "state": {
            "_view_name": "HTMLView",
            "style": "IPY_MODEL_2dd696ff162d4640a729553a59a604d3",
            "_dom_classes": [],
            "description": "",
            "_model_name": "HTMLModel",
            "placeholder": "​",
            "_view_module": "@jupyter-widgets/controls",
            "_model_module_version": "1.5.0",
            "value": "Validating: 100%",
            "_view_count": null,
            "_view_module_version": "1.5.0",
            "description_tooltip": null,
            "_model_module": "@jupyter-widgets/controls",
            "layout": "IPY_MODEL_a7c9230c6f6543d3928edeb27212aaca"
          }
        },
        "b9260bd6db1644b8be884cf7498dbce1": {
          "model_module": "@jupyter-widgets/controls",
          "model_name": "FloatProgressModel",
          "model_module_version": "1.5.0",
          "state": {
            "_view_name": "ProgressView",
            "style": "IPY_MODEL_7ecd5e03516741809f45f55eac8df5af",
            "_dom_classes": [],
            "description": "",
            "_model_name": "FloatProgressModel",
            "bar_style": "",
            "max": 9,
            "_view_module": "@jupyter-widgets/controls",
            "_model_module_version": "1.5.0",
            "value": 9,
            "_view_count": null,
            "_view_module_version": "1.5.0",
            "orientation": "horizontal",
            "min": 0,
            "description_tooltip": null,
            "_model_module": "@jupyter-widgets/controls",
            "layout": "IPY_MODEL_4cfbb3d557274a0ba042dc8ab7ff9cdc"
          }
        },
        "4ecaa380e0af4ae18b730e243f0ece7a": {
          "model_module": "@jupyter-widgets/controls",
          "model_name": "HTMLModel",
          "model_module_version": "1.5.0",
          "state": {
            "_view_name": "HTMLView",
            "style": "IPY_MODEL_518b4bb88e504449b889a2c98aaac9c4",
            "_dom_classes": [],
            "description": "",
            "_model_name": "HTMLModel",
            "placeholder": "​",
            "_view_module": "@jupyter-widgets/controls",
            "_model_module_version": "1.5.0",
            "value": " 9/9 [01:01&lt;00:00,  6.84s/it]",
            "_view_count": null,
            "_view_module_version": "1.5.0",
            "description_tooltip": null,
            "_model_module": "@jupyter-widgets/controls",
            "layout": "IPY_MODEL_bbfbfcf92cd94cc9bcdb8a6fb5205140"
          }
        },
        "2dd696ff162d4640a729553a59a604d3": {
          "model_module": "@jupyter-widgets/controls",
          "model_name": "DescriptionStyleModel",
          "model_module_version": "1.5.0",
          "state": {
            "_view_name": "StyleView",
            "_model_name": "DescriptionStyleModel",
            "description_width": "",
            "_view_module": "@jupyter-widgets/base",
            "_model_module_version": "1.5.0",
            "_view_count": null,
            "_view_module_version": "1.2.0",
            "_model_module": "@jupyter-widgets/controls"
          }
        },
        "a7c9230c6f6543d3928edeb27212aaca": {
          "model_module": "@jupyter-widgets/base",
          "model_name": "LayoutModel",
          "model_module_version": "1.2.0",
          "state": {
            "_view_name": "LayoutView",
            "grid_template_rows": null,
            "right": null,
            "justify_content": null,
            "_view_module": "@jupyter-widgets/base",
            "overflow": null,
            "_model_module_version": "1.2.0",
            "_view_count": null,
            "flex_flow": null,
            "width": null,
            "min_width": null,
            "border": null,
            "align_items": null,
            "bottom": null,
            "_model_module": "@jupyter-widgets/base",
            "top": null,
            "grid_column": null,
            "overflow_y": null,
            "overflow_x": null,
            "grid_auto_flow": null,
            "grid_area": null,
            "grid_template_columns": null,
            "flex": null,
            "_model_name": "LayoutModel",
            "justify_items": null,
            "grid_row": null,
            "max_height": null,
            "align_content": null,
            "visibility": null,
            "align_self": null,
            "height": null,
            "min_height": null,
            "padding": null,
            "grid_auto_rows": null,
            "grid_gap": null,
            "max_width": null,
            "order": null,
            "_view_module_version": "1.2.0",
            "grid_template_areas": null,
            "object_position": null,
            "object_fit": null,
            "grid_auto_columns": null,
            "margin": null,
            "display": null,
            "left": null
          }
        },
        "7ecd5e03516741809f45f55eac8df5af": {
          "model_module": "@jupyter-widgets/controls",
          "model_name": "ProgressStyleModel",
          "model_module_version": "1.5.0",
          "state": {
            "_view_name": "StyleView",
            "_model_name": "ProgressStyleModel",
            "description_width": "",
            "_view_module": "@jupyter-widgets/base",
            "_model_module_version": "1.5.0",
            "_view_count": null,
            "_view_module_version": "1.2.0",
            "bar_color": null,
            "_model_module": "@jupyter-widgets/controls"
          }
        },
        "4cfbb3d557274a0ba042dc8ab7ff9cdc": {
          "model_module": "@jupyter-widgets/base",
          "model_name": "LayoutModel",
          "model_module_version": "1.2.0",
          "state": {
            "_view_name": "LayoutView",
            "grid_template_rows": null,
            "right": null,
            "justify_content": null,
            "_view_module": "@jupyter-widgets/base",
            "overflow": null,
            "_model_module_version": "1.2.0",
            "_view_count": null,
            "flex_flow": null,
            "width": null,
            "min_width": null,
            "border": null,
            "align_items": null,
            "bottom": null,
            "_model_module": "@jupyter-widgets/base",
            "top": null,
            "grid_column": null,
            "overflow_y": null,
            "overflow_x": null,
            "grid_auto_flow": null,
            "grid_area": null,
            "grid_template_columns": null,
            "flex": "2",
            "_model_name": "LayoutModel",
            "justify_items": null,
            "grid_row": null,
            "max_height": null,
            "align_content": null,
            "visibility": null,
            "align_self": null,
            "height": null,
            "min_height": null,
            "padding": null,
            "grid_auto_rows": null,
            "grid_gap": null,
            "max_width": null,
            "order": null,
            "_view_module_version": "1.2.0",
            "grid_template_areas": null,
            "object_position": null,
            "object_fit": null,
            "grid_auto_columns": null,
            "margin": null,
            "display": null,
            "left": null
          }
        },
        "518b4bb88e504449b889a2c98aaac9c4": {
          "model_module": "@jupyter-widgets/controls",
          "model_name": "DescriptionStyleModel",
          "model_module_version": "1.5.0",
          "state": {
            "_view_name": "StyleView",
            "_model_name": "DescriptionStyleModel",
            "description_width": "",
            "_view_module": "@jupyter-widgets/base",
            "_model_module_version": "1.5.0",
            "_view_count": null,
            "_view_module_version": "1.2.0",
            "_model_module": "@jupyter-widgets/controls"
          }
        },
        "bbfbfcf92cd94cc9bcdb8a6fb5205140": {
          "model_module": "@jupyter-widgets/base",
          "model_name": "LayoutModel",
          "model_module_version": "1.2.0",
          "state": {
            "_view_name": "LayoutView",
            "grid_template_rows": null,
            "right": null,
            "justify_content": null,
            "_view_module": "@jupyter-widgets/base",
            "overflow": null,
            "_model_module_version": "1.2.0",
            "_view_count": null,
            "flex_flow": null,
            "width": null,
            "min_width": null,
            "border": null,
            "align_items": null,
            "bottom": null,
            "_model_module": "@jupyter-widgets/base",
            "top": null,
            "grid_column": null,
            "overflow_y": null,
            "overflow_x": null,
            "grid_auto_flow": null,
            "grid_area": null,
            "grid_template_columns": null,
            "flex": null,
            "_model_name": "LayoutModel",
            "justify_items": null,
            "grid_row": null,
            "max_height": null,
            "align_content": null,
            "visibility": null,
            "align_self": null,
            "height": null,
            "min_height": null,
            "padding": null,
            "grid_auto_rows": null,
            "grid_gap": null,
            "max_width": null,
            "order": null,
            "_view_module_version": "1.2.0",
            "grid_template_areas": null,
            "object_position": null,
            "object_fit": null,
            "grid_auto_columns": null,
            "margin": null,
            "display": null,
            "left": null
          }
        }
      }
    }
  },
  "cells": [
    {
      "cell_type": "markdown",
      "source": [
        "# Med Imagetools Tutorial 2: Segmentation with Med-Imagetools and torchio"
      ],
      "metadata": {
        "id": "PCZg19GhVKQl"
      }
    },
    {
      "cell_type": "markdown",
      "source": [
        "In this tutorial, we will show how med-imagetools can make the data preparation task for any Machine learning task very easy, inspite of messy datasets. Additionally it takes advantage of the different relationships between different modalities and these relationships can be easily incorporated in a Machine Learning Pipeline. \n",
        "\n",
        "We will showcase the data preparation pipeline taking from raw dataset to torchloader. Here for the sake of brevity, we are going to use already processed data from Autopipeline. We will use the Dataset Class from med-imagetools which processes the processed dataset, loads the nrrds and converts the data into list of torchio subjects. A single subject can contain multiple modalities and multiple metadata, making it data rich. Then using torchio subject class , we load the subjects and form dataset which gets loaded into torchloader, ready for Machine Learning.  \n",
        "\n",
        "For this tutorial, we will segment ***Body*** from the [HNSCC-3DCT-RT](https://wiki.cancerimagingarchive.net/pages/viewpage.action?pageId=39879146) dataset. Its a publicly available dataset consisting of 31 patients."
      ],
      "metadata": {
        "id": "3cy1pFmEVRU-"
      }
    },
    {
      "cell_type": "markdown",
      "source": [
        "## Setup"
      ],
      "metadata": {
        "id": "gu--78wEYedy"
      }
    },
    {
      "cell_type": "code",
      "execution_count": 1,
      "metadata": {
        "colab": {
          "base_uri": "https://localhost:8080/"
        },
        "id": "PPuEuxPDABuX",
        "outputId": "d9b550fa-742d-4955-ef27-d1452750b061"
      },
      "outputs": [
        {
          "output_type": "stream",
          "name": "stdout",
          "text": [
            "\u001b[K     |████████████████████████████████| 57 kB 2.4 MB/s \n",
            "\u001b[K     |████████████████████████████████| 48.4 MB 19 kB/s \n",
            "\u001b[K     |████████████████████████████████| 2.0 MB 35.0 MB/s \n",
            "\u001b[K     |████████████████████████████████| 164 kB 47.1 MB/s \n",
            "\u001b[K     |████████████████████████████████| 918 kB 4.3 MB/s \n",
            "\u001b[K     |████████████████████████████████| 332 kB 46.8 MB/s \n",
            "\u001b[K     |████████████████████████████████| 132 kB 48.1 MB/s \n",
            "\u001b[K     |████████████████████████████████| 596 kB 40.0 MB/s \n",
            "\u001b[K     |████████████████████████████████| 829 kB 31.0 MB/s \n",
            "\u001b[K     |████████████████████████████████| 1.1 MB 35.1 MB/s \n",
            "\u001b[K     |████████████████████████████████| 192 kB 48.4 MB/s \n",
            "\u001b[K     |████████████████████████████████| 271 kB 49.4 MB/s \n",
            "\u001b[K     |████████████████████████████████| 160 kB 50.2 MB/s \n",
            "\u001b[?25h  Building wheel for future (setup.py) ... \u001b[?25l\u001b[?25hdone\n",
            "Collecting unet\n",
            "  Downloading unet-0.7.7-py2.py3-none-any.whl (8.1 kB)\n",
            "Requirement already satisfied: torch in /usr/local/lib/python3.7/dist-packages (from unet) (1.10.0+cu111)\n",
            "Requirement already satisfied: typing-extensions in /usr/local/lib/python3.7/dist-packages (from torch->unet) (3.10.0.2)\n",
            "Installing collected packages: unet\n",
            "Successfully installed unet-0.7.7\n"
          ]
        }
      ],
      "source": [
        "%pip install --quiet med-imagetools\n",
        "%pip install --quiet med-imagetools[debug]\n",
        "%pip install -q pytorch-lightning==1.4.4\n",
        "%pip install unet"
      ]
    },
    {
      "cell_type": "code",
      "source": [
        "import pytorch_lightning as pl\n",
        "import torch\n",
        "import torch.nn.functional as F\n",
        "import torch.optim as optim\n",
        "import numpy as np\n",
        "import torchio as tio\n",
        "import os\n",
        "from torch.utils.data import DataLoader\n",
        "from typing import List\n",
        "import re\n",
        "from unet import UNet\n",
        "from torch.utils.tensorboard import SummaryWriter\n",
        "from tqdm import tqdm\n",
        "from torch.autograd import Variable\n",
        "from matplotlib import pyplot as plt\n",
        "from imgtools.io import Dataset\n",
        "import shutil\n",
        "import pathlib\n",
        "import urllib.request as request\n",
        "from zipfile import ZipFile\n",
        "%load_ext tensorboard"
      ],
      "metadata": {
        "id": "VBMUIvGkYii7"
      },
      "execution_count": 2,
      "outputs": []
    },
    {
      "cell_type": "markdown",
      "source": [
        "## Download the dataset\n",
        "\n",
        "The dataset for the sake of brevity has already been prepared using autopipeline.py and compressed as zip. We load the processed dataset from [github link](https://github.com/skim2257/tcia_samples)\n",
        "\n",
        "```\n",
        "python ./imgtools/autopipeline.py\\ \n",
        "\"/cluster/home/ramanav/data/TCIA HNSCC-3DCT-RT\"\\\n",
        "/cluster/projects/radiomics/Temp/vishwesh/demo_data\\\n",
        "--modalities RTDOSE,CT,RTSTRUCT\\\n",
        "--spacing 4 4 0\\\n",
        "--n_jobs 8\\\n",
        "--visualize True\n",
        "```"
      ],
      "metadata": {
        "id": "LiRmrSKRbHnc"
      }
    },
    {
      "cell_type": "code",
      "source": [
        "print(\"Downloading the test dataset...\")\n",
        "curr_path = pathlib.Path().parent.parent.resolve()\n",
        "quebec_path = pathlib.Path(os.path.join(curr_path,\"data\"))\n",
        "\n",
        "if not os.path.exists(quebec_path):\n",
        "  pathlib.Path(quebec_path).mkdir(parents=True, exist_ok=True)\n",
        "  quebec_data_url = \"https://github.com/bhklab/tcia_samples/blob/main/HNSCC-3DCT-RT.zip?raw=true\"\n",
        "  quebec_zip_path = os.path.join(quebec_path, \"HNSCC-3DCT-RT.zip\")\n",
        "  request.urlretrieve(quebec_data_url, quebec_zip_path) \n",
        "  with ZipFile(quebec_zip_path, 'r') as zipfile:\n",
        "      zipfile.extractall(quebec_path)\n",
        "  os.remove(quebec_zip_path)\n",
        "else:\n",
        "  print(\"Data already present\")"
      ],
      "metadata": {
        "colab": {
          "base_uri": "https://localhost:8080/"
        },
        "id": "HW9PiTERauH9",
        "outputId": "8817e9f7-dd60-4160-f48e-c4ba9c8f8a67"
      },
      "execution_count": 5,
      "outputs": [
        {
          "output_type": "stream",
          "name": "stdout",
          "text": [
            "Downloading the test dataset...\n"
          ]
        }
      ]
    },
    {
      "cell_type": "markdown",
      "source": [
        "## Load the dataset\n",
        "\n",
        "Here, before we load our dataset, we define an extra torchio transform, useful for selecting labels corresponding to the ROI names that the user wants"
      ],
      "metadata": {
        "id": "OauxWpfUeFpa"
      }
    },
    {
      "cell_type": "code",
      "source": [
        "class select_roi_names(tio.LabelTransform):\n",
        "    \"\"\"\n",
        "    Based on the given roi names, selects from the given set\n",
        "    \"\"\"\n",
        "    def __init__(\n",
        "            self,\n",
        "            roi_names: List[str] = None,\n",
        "            **kwargs\n",
        "            ) -> None:\n",
        "        super().__init__(**kwargs)\n",
        "        self.kwargs = kwargs\n",
        "        self.roi_names = roi_names\n",
        "    \n",
        "    def apply_transform(self,subject):\n",
        "        #list of roi_names\n",
        "        for image in self.get_images(subject):\n",
        "            #For only applying to labelmaps\n",
        "            metadata = subject[\"metadata_RTSTRUCT_CT\"]\n",
        "            patterns = self.roi_names\n",
        "            mask = torch.empty_like(image.data)[:len(patterns)]\n",
        "            for j,pat in enumerate(patterns):\n",
        "                k = []\n",
        "                for i,col in enumerate(metadata):\n",
        "                    if re.match(pat,col,flags=re.IGNORECASE):\n",
        "                        k.append(i)\n",
        "                if len(k)==0:\n",
        "                    mask[j] = mask[j]*0\n",
        "                else:  \n",
        "                    mask[j] = (image.data[k].sum(axis=0)>0)*1    \n",
        "            image.set_data(mask)\n",
        "        return subject\n",
        "    \n",
        "    def is_invertible(self):\n",
        "        return False"
      ],
      "metadata": {
        "id": "pSwXj9RbbbUL"
      },
      "execution_count": 7,
      "outputs": []
    },
    {
      "cell_type": "markdown",
      "source": [
        "We define here there directory name and required torchio transforms. We also specify the label map that we are interested in"
      ],
      "metadata": {
        "id": "VpVAEOdNeuUV"
      }
    },
    {
      "cell_type": "code",
      "source": [
        "#Data directory\n",
        "output_directory = os.path.join(curr_path,\"data\",\"demo_data_v2\")\n",
        "\n",
        "#Defining Transforms\n",
        "train_transforms = tio.Compose([\n",
        "    tio.ToCanonical(),\n",
        "    tio.Resample(4),\n",
        "    tio.CropOrPad((96,96,40)),\n",
        "    select_roi_names([\"Body\"]),\n",
        "    tio.ZNormalization(),\n",
        "    tio.RandomFlip(),\n",
        "    tio.OneHot()])\n",
        "\n",
        "val_transforms = tio.Compose([\n",
        "    tio.ToCanonical(),\n",
        "    tio.Resample(4),\n",
        "    tio.CropOrPad((96,96,40)),\n",
        "    select_roi_names([\"Body\"]),\n",
        "    tio.ZNormalization(),\n",
        "    tio.OneHot()])"
      ],
      "metadata": {
        "id": "8NVOdvcretVq"
      },
      "execution_count": 9,
      "outputs": []
    },
    {
      "cell_type": "markdown",
      "source": [
        "Med-imagetools uses dataset class to load all the nrrd files into list of torchio subject instances"
      ],
      "metadata": {
        "id": "R5wgZVyGhkWV"
      }
    },
    {
      "cell_type": "code",
      "source": [
        "#Loading all the files and transforming all the components into List of tio.subjects\n",
        "subjects = Dataset.load_from_nrrd(output_directory,ignore_multi=True)"
      ],
      "metadata": {
        "id": "gSAHJNUgerDp",
        "colab": {
          "base_uri": "https://localhost:8080/"
        },
        "outputId": "179863e1-41ad-4e76-dd53-eee22f0eee46"
      },
      "execution_count": 10,
      "outputs": [
        {
          "output_type": "stream",
          "name": "stderr",
          "text": [
            "100%|██████████| 43/43 [00:00<00:00, 1588.78it/s]\n"
          ]
        }
      ]
    },
    {
      "cell_type": "markdown",
      "source": [
        "We now convert the list of torchio subjects to torchio subject dataset and eventually load it using torch dataloader"
      ],
      "metadata": {
        "id": "dQ2LZCZ2h4ae"
      }
    },
    {
      "cell_type": "code",
      "source": [
        "#Splitting into test and train\n",
        "training_split_ratio = 0.8\n",
        "num_subjects = len(subjects)\n",
        "num_training_subjects = int(training_split_ratio * num_subjects)\n",
        "num_validation_subjects = num_subjects - num_training_subjects\n",
        "num_split_subjects = num_training_subjects, num_validation_subjects\n",
        "training_subjects, validation_subjects = torch.utils.data.random_split(subjects, num_split_subjects)\n",
        "\n",
        "#Defining training and validation dataset\n",
        "training_set = tio.SubjectsDataset(\n",
        "    training_subjects, transform=train_transforms) \n",
        "\n",
        "validation_set = tio.SubjectsDataset(\n",
        "    validation_subjects, transform=val_transforms)\n",
        "\n",
        "print('Training set:', len(training_set), 'subjects')\n",
        "print('Validation set:', len(validation_set), 'subjects')\n",
        "\n",
        "training_batch_size = 4\n",
        "validation_batch_size = 1\n",
        "\n",
        "# Torch Data loader\n",
        "training_loader = torch.utils.data.DataLoader(\n",
        "    training_set,\n",
        "    batch_size=training_batch_size,\n",
        "    shuffle=True,\n",
        "    num_workers=4,\n",
        "    collate_fn = lambda x: (torch.stack(tuple(items[\"mod_CT\"].data for items in x)),\n",
        "                            torch.stack(tuple(items[\"mod_RTSTRUCT_CT\"].data for items in x)))\n",
        ")\n",
        "\n",
        "validation_loader = torch.utils.data.DataLoader(\n",
        "    validation_set,\n",
        "    batch_size=validation_batch_size,\n",
        "    num_workers=4,\n",
        "    collate_fn = lambda x: (torch.stack(tuple(items[\"mod_CT\"].data for items in x)),\n",
        "                            torch.stack(tuple(items[\"mod_RTSTRUCT_CT\"].data for items in x)))\n",
        ")"
      ],
      "metadata": {
        "id": "bSrEaa4niC7J",
        "colab": {
          "base_uri": "https://localhost:8080/"
        },
        "outputId": "6542eddb-b4d6-48d2-c5ed-a75a3a159a2f"
      },
      "execution_count": 11,
      "outputs": [
        {
          "output_type": "stream",
          "name": "stdout",
          "text": [
            "Training set: 34 subjects\n",
            "Validation set: 9 subjects\n"
          ]
        },
        {
          "output_type": "stream",
          "name": "stderr",
          "text": [
            "/usr/local/lib/python3.7/dist-packages/torch/utils/data/dataloader.py:481: UserWarning: This DataLoader will create 4 worker processes in total. Our suggested max number of worker in current system is 2, which is smaller than what this DataLoader is going to create. Please be aware that excessive worker creation might get DataLoader running slow or even freeze, lower the worker number to avoid potential slowness/freeze if necessary.\n",
            "  cpuset_checked))\n"
          ]
        }
      ]
    },
    {
      "cell_type": "markdown",
      "source": [
        "### Dataset Visualization"
      ],
      "metadata": {
        "id": "5LvV94AQll43"
      }
    },
    {
      "cell_type": "code",
      "source": [
        "training_instance = training_set[24]\n",
        "print(training_instance)\n",
        "print(training_instance[\"mod_CT\"].data.shape)\n",
        "print(training_instance[\"mod_RTSTRUCT_CT\"].data.shape)\n",
        "print(training_instance[\"metadata_RTSTRUCT_CT\"])\n",
        "print(training_instance[\"metadata_RTDOSE_CT\"])"
      ],
      "metadata": {
        "colab": {
          "base_uri": "https://localhost:8080/"
        },
        "id": "bcdvLgTPltsE",
        "outputId": "12fb33af-62c0-4aec-b351-673a1d0d1d98"
      },
      "execution_count": 12,
      "outputs": [
        {
          "output_type": "stream",
          "name": "stdout",
          "text": [
            "Subject(Keys: ('mod_CT', 'mod_RTSTRUCT_CT', 'metadata_RTSTRUCT_CT', 'mod_RTDOSE_CT', 'metadata_RTDOSE_CT'); images: 3)\n",
            "torch.Size([1, 96, 96, 40])\n",
            "torch.Size([2, 96, 96, 40])\n",
            "['BODY', 'Spinal Cord', 'BRAIN STEM', 'OPTIC N R', 'COCHLEA L', 'PAROTID L', 'CHIASM', 'COCHLEA R', 'PAROTID R', 'ORAL CAVITY', 'MANDIBLE', 'OPTIC N L', 'LIPS', 'Esophagus', 'GTV 1 NODE', 'GTV 1', 'CTV 1', 'PTV 1', 'CTV 1 NODE', 'PTV 1 NODE', 'CTV 2 IB LEFT', 'CTV 2 I-V L', 'PTV 2 I-V L', 'PTV 2 IB L', 'CTV 3 IV L', 'PTV 3 IV L', 'CTV 3 RETRO L', 'PTV 3 RETRO L', 'CTV 3 II-IV R', 'PTV 3 II-IV R', 'CTV 3 RETRO R', 'PTV 3 RETRO R', 'GSL', 'OARpharynx', 'PRV spinal cord', 'CouchSurface', 'CouchInterior', 'CouchRailLeft', 'CouchRailRight', 'OptPTV2I_VL5940', 'OptPTV2IB_L5940', 'OptPTV3IV_L5445', 'OptPTV3retL_5445', 'OptPTV3retR_5445', 'PRVBrainstem', 'Dose 7600[cGy]', 'Dose 7500[cGy]', 'Dose 5930[cGy]', 'CTV HR', 'CTV LR']\n",
            "{}\n"
          ]
        }
      ]
    },
    {
      "cell_type": "code",
      "source": [
        "training_instance.plot(figsize=[20,15])"
      ],
      "metadata": {
        "colab": {
          "base_uri": "https://localhost:8080/",
          "height": 728
        },
        "id": "1_C4lvk3lxqB",
        "outputId": "48e53db5-ddeb-4756-ab81-f47ab12a615d"
      },
      "execution_count": 13,
      "outputs": [
        {
          "output_type": "display_data",
          "data": {
            "image/png": "[encoded data removed]",
            "text/plain": [
              "<Figure size 1440x1080 with 9 Axes>"
            ]
          },
          "metadata": {
            "needs_background": "light"
          }
        }
      ]
    },
    {
      "cell_type": "markdown",
      "source": [
        "## Setting Machine Learning Pipeline: Segmenation using UNET"
      ],
      "metadata": {
        "id": "1hb3hATgmR9P"
      }
    },
    {
      "cell_type": "markdown",
      "source": [
        "We define the training pipeline and loss function using pytorch lightning"
      ],
      "metadata": {
        "id": "B5GQUVmtpLWf"
      }
    },
    {
      "cell_type": "code",
      "source": [
        "class SegmentationPipeline(pl.LightningModule):\n",
        "    def __init__(self, net, criterion, learning_rate,weight_decay, optimizer_class):\n",
        "        super().__init__()\n",
        "        self.lr = learning_rate\n",
        "        self.weight_decay = weight_decay\n",
        "        self.net = net\n",
        "        self.criterion = criterion\n",
        "        self.optimizer_class = optimizer_class\n",
        "    \n",
        "    def configure_optimizers(self):\n",
        "        optimizer = self.optimizer_class(self.parameters(), lr=self.lr,weight_decay=self.weight_decay)\n",
        "        return optimizer\n",
        "    \n",
        "    def infer_batch(self, batch):\n",
        "        x, y = batch\n",
        "        output = self.net(x)\n",
        "        y_hat = F.softmax(output, dim=1)\n",
        "        return y_hat, y\n",
        "\n",
        "    def training_step(self, batch, batch_idx):\n",
        "        y_hat, y = self.infer_batch(batch)\n",
        "        loss = self.criterion(y_hat, y).mean()\n",
        "        dice_score = 1-loss\n",
        "        self.log('train_loss', loss, prog_bar=True)\n",
        "        self.log('train dice score',dice_score)\n",
        "        return loss\n",
        "    \n",
        "    def validation_step(self, batch, batch_idx):\n",
        "        y_hat, y = self.infer_batch(batch)\n",
        "        loss = self.criterion(y_hat, y).mean()\n",
        "        dice_score = 1-loss\n",
        "        self.log('val_loss', loss,prog_bar=True)\n",
        "        self.log('val dice score',dice_score)\n",
        "        return loss\n",
        "\n",
        "#DICE Loss function taken from torchio tutorial\n",
        "def get_dice_score(output, target, epsilon=1e-9):\n",
        "    p0 = output\n",
        "    g0 = target\n",
        "    p1 = 1 - p0\n",
        "    g1 = 1 - g0\n",
        "    tp = (p0 * g0).sum(dim=[2,3,4])\n",
        "    fp = (p0 * g1).sum(dim=[2,3,4])\n",
        "    fn = (p1 * g0).sum(dim=[2,3,4])\n",
        "    num = 2 * tp\n",
        "    denom = 2 * tp + fp + fn + epsilon\n",
        "    dice_score = num / denom\n",
        "    return dice_score\n",
        "\n",
        "def get_dice_loss(output, target):\n",
        "    return 1 - get_dice_score(output, target)"
      ],
      "metadata": {
        "id": "jHR7BW78l3ST"
      },
      "execution_count": 14,
      "outputs": []
    },
    {
      "cell_type": "markdown",
      "source": [
        "We define the model, optimizer and create an instance of segmentation pipeline"
      ],
      "metadata": {
        "id": "1wUip7E8pRll"
      }
    },
    {
      "cell_type": "code",
      "source": [
        "#Defning Models\n",
        "model = UNet(\n",
        "        in_channels=1,\n",
        "        out_classes=2,\n",
        "        dimensions=3,\n",
        "        num_encoding_blocks=2,\n",
        "        out_channels_first_layer=16,\n",
        "        normalization='batch',\n",
        "        padding=True,\n",
        "        activation='ReLU',\n",
        "    )\n",
        "\n",
        "pipeline = SegmentationPipeline(net=model,\n",
        "                                learning_rate = 0.0001,\n",
        "                                weight_decay = 0.0005,\n",
        "                                criterion = get_dice_score,\n",
        "                                optimizer_class = torch.optim.AdamW\n",
        "                                )\n",
        "\n",
        "early_stopping = pl.callbacks.early_stopping.EarlyStopping(monitor='val_loss')\n",
        "trainer = pl.Trainer(gpus=1,\n",
        "                     precision=16,\n",
        "                     callbacks=[early_stopping],\n",
        "                     max_epochs=20\n",
        "                     )\n",
        "trainer.logger._default_hp_metric = False"
      ],
      "metadata": {
        "colab": {
          "base_uri": "https://localhost:8080/"
        },
        "id": "2YVf78SqpfK4",
        "outputId": "3b2bb56a-352d-49b7-8b05-47b536c837eb"
      },
      "execution_count": 18,
      "outputs": [
        {
          "output_type": "stream",
          "name": "stderr",
          "text": [
            "Using native 16bit precision.\n",
            "GPU available: True, used: True\n",
            "TPU available: False, using: 0 TPU cores\n",
            "IPU available: False, using: 0 IPUs\n"
          ]
        }
      ]
    },
    {
      "cell_type": "markdown",
      "source": [
        "## Training of the model"
      ],
      "metadata": {
        "id": "2czQDfFwrMvu"
      }
    },
    {
      "cell_type": "code",
      "source": [
        "print(\"Starting training...\")\n",
        "trainer.fit(pipeline,training_loader,validation_loader)\n",
        "print(\"Done...\")"
      ],
      "metadata": {
        "colab": {
          "base_uri": "https://localhost:8080/",
          "height": 413,
          "referenced_widgets": [
            "b8f4bc0e6e9b4a0eaec4355df45f505a",
            "f55c779ca0dd48d1ad4f8909c1f3194e",
            "8b6d7b1d4b0448ea9f93879e879e14fe",
            "9630b2f0409348e19487a1ae53d11c31",
            "f5dbb60a320d42b2ace3ec9dceb92a27",
            "3a332215d1634b04b4ff02259c241093",
            "55cc18f3e893412aa3de0f5cea391d5b",
            "e54d33e7a41b40058888f4680d4c64cf",
            "c64905eb585a4bd4828a8298a7ae2dc2",
            "bb4a5bd417b84ebd9074c240a0a34264",
            "9aa3912ccf90436e8c2bce44469e3a50",
            "70465f5a33fc4ad192580b8ee6abdcbd",
            "3382662c60104573bfd1871d81780bc7",
            "dcb1bf3f0bd740beb1d8120048077b7c",
            "f9a60efbbf0e454d9a6ebaf372daad2f",
            "26c84af4ba6b4646b8d5547b22e0e035",
            "465e9406c3f64581bb7716c36a52c2fb",
            "9185e9bb704d482ea6ed9e5f3e8d9fdf",
            "cae05d7e8373456a982f0bfd62c51068",
            "b8c0f9b51cfb468ab26ba19f34db61ad",
            "6a25c1401a28474abb6008be7804695e",
            "2ff9a81354574dbcb7d5ce8a8e630409",
            "ea519ec9d52d4bba973af3c01951f4fe",
            "bcde248a70864405a2d9fa4aaa5b225b",
            "eb98db61c371499eaa06e97cbc37d9a2",
            "4f49640703a147e4839e6151c56dfc1f",
            "1314da378bd544e5a818be378537ac0a",
            "eec6b00e817e4abe9a54dacdd4477bac",
            "1b87570b22594818ab47e0bf7bb24157",
            "5702a529a87846d99654fad5aaa3cbb4",
            "028504cd8b92413c8abb5e6b7cd38d7e",
            "83da54278b364ca7a87bd512e90a4f84",
            "58394da5a9ef4ed3aeb39f65fbfea9b1",
            "b772966fac8a43e8b88c8f099bdf7c61",
            "6aa0a6562dfb4fa8a3264dc78c38a4b6",
            "20b56bd597b14dcaa779ccbf61062b1d",
            "3873900fec334efcbcecdd370c1eb21d",
            "38f46e0195794ee2b8b33d6d312562eb",
            "23f7506b14d945568ba51dbc56d0c079",
            "3aafc3f2c47d4b0a97f1c9e19f606753",
            "94eac1db8e09444aa40776bc7dfb9a07",
            "34991b2e1b2340a686e3f1672249461f",
            "545fcaa91cee4e7fb8ba51ad9d4d3178",
            "c5457db9e80d4a8b9bb6cc73a1a15880",
            "521572ad713d4382b79a60fb530d5561",
            "f4117ec7f38140a39393fc8a2423f1a4",
            "90a1864bff454d6199f02580b61b0ac7",
            "f1a49695600f4d8dadf34cca36561cec",
            "0fa14e2fcee448fa976af6e032216625",
            "858bf51e019b4926a46ab9358f1d113a",
            "0511e83634644f0cb673f4a252266866",
            "f74f147256804144b2109201b1e63198",
            "a5f43cd707bd4a3fb33118a66a82d264",
            "0ecfd44cb9a24923bc3cc27238a47985",
            "3d4b672346e743b2b9646427ed2e12fb",
            "51617b00efef430094497eb337396ec9",
            "79a6250d2ec54c1f8fb20e54f919c27e",
            "f74bbe3317784d7cb21f4619f20d2f8b",
            "b9260bd6db1644b8be884cf7498dbce1",
            "4ecaa380e0af4ae18b730e243f0ece7a",
            "2dd696ff162d4640a729553a59a604d3",
            "a7c9230c6f6543d3928edeb27212aaca",
            "7ecd5e03516741809f45f55eac8df5af",
            "4cfbb3d557274a0ba042dc8ab7ff9cdc",
            "518b4bb88e504449b889a2c98aaac9c4",
            "bbfbfcf92cd94cc9bcdb8a6fb5205140"
          ]
        },
        "id": "PUgt5Nbtq78n",
        "outputId": "ae4eb1b8-cbf3-4d23-bf8c-a36f0f83ebdf"
      },
      "execution_count": null,
      "outputs": [
        {
          "output_type": "stream",
          "name": "stderr",
          "text": [
            "LOCAL_RANK: 0 - CUDA_VISIBLE_DEVICES: [0]\n"
          ]
        },
        {
          "output_type": "stream",
          "name": "stdout",
          "text": [
            "Starting training...\n"
          ]
        },
        {
          "output_type": "stream",
          "name": "stderr",
          "text": [
            "Missing logger folder: /content/lightning_logs\n",
            "\n",
            "  | Name | Type | Params\n",
            "------------------------------\n",
            "0 | net  | UNet | 241 K \n",
            "------------------------------\n",
            "241 K     Trainable params\n",
            "0         Non-trainable params\n",
            "241 K     Total params\n",
            "0.964     Total estimated model params size (MB)\n"
          ]
        },
        {
          "output_type": "display_data",
          "data": {
            "application/vnd.jupyter.widget-view+json": {
              "model_id": "b8f4bc0e6e9b4a0eaec4355df45f505a",
              "version_minor": 0,
              "version_major": 2
            },
            "text/plain": [
              "Validation sanity check: 0it [00:00, ?it/s]"
            ]
          },
          "metadata": {}
        },
        {
          "output_type": "stream",
          "name": "stderr",
          "text": [
            "/usr/local/lib/python3.7/dist-packages/torch/utils/data/dataloader.py:481: UserWarning: This DataLoader will create 4 worker processes in total. Our suggested max number of worker in current system is 2, which is smaller than what this DataLoader is going to create. Please be aware that excessive worker creation might get DataLoader running slow or even freeze, lower the worker number to avoid potential slowness/freeze if necessary.\n",
            "  cpuset_checked))\n",
            "/usr/local/lib/python3.7/dist-packages/unet/decoding.py:146: UserWarning: __floordiv__ is deprecated, and its behavior will change in a future version of pytorch. It currently rounds toward 0 (like the 'trunc' function NOT 'floor'). This results in incorrect rounding for negative values. To keep the current behavior, use torch.div(a, b, rounding_mode='trunc'), or for actual floor division, use torch.div(a, b, rounding_mode='floor').\n",
            "  half_crop = crop // 2\n",
            "/usr/local/lib/python3.7/dist-packages/pytorch_lightning/trainer/data_loading.py:323: UserWarning: The number of training samples (9) is smaller than the logging interval Trainer(log_every_n_steps=50). Set a lower value for log_every_n_steps if you want to see logs for the training epoch.\n",
            "  f\"The number of training samples ({self.num_training_batches}) is smaller than the logging interval\"\n"
          ]
        },
        {
          "output_type": "display_data",
          "data": {
            "application/vnd.jupyter.widget-view+json": {
              "model_id": "70465f5a33fc4ad192580b8ee6abdcbd",
              "version_minor": 0,
              "version_major": 2
            },
            "text/plain": [
              "Training: -1it [00:00, ?it/s]"
            ]
          },
          "metadata": {}
        },
        {
          "output_type": "display_data",
          "data": {
            "application/vnd.jupyter.widget-view+json": {
              "model_id": "ea519ec9d52d4bba973af3c01951f4fe",
              "version_minor": 0,
              "version_major": 2
            },
            "text/plain": [
              "Validating: 0it [00:00, ?it/s]"
            ]
          },
          "metadata": {}
        },
        {
          "output_type": "display_data",
          "data": {
            "application/vnd.jupyter.widget-view+json": {
              "model_id": "b772966fac8a43e8b88c8f099bdf7c61",
              "version_minor": 0,
              "version_major": 2
            },
            "text/plain": [
              "Validating: 0it [00:00, ?it/s]"
            ]
          },
          "metadata": {}
        },
        {
          "output_type": "display_data",
          "data": {
            "application/vnd.jupyter.widget-view+json": {
              "model_id": "521572ad713d4382b79a60fb530d5561",
              "version_minor": 0,
              "version_major": 2
            },
            "text/plain": [
              "Validating: 0it [00:00, ?it/s]"
            ]
          },
          "metadata": {}
        },
        {
          "output_type": "display_data",
          "data": {
            "application/vnd.jupyter.widget-view+json": {
              "model_id": "51617b00efef430094497eb337396ec9",
              "version_minor": 0,
              "version_major": 2
            },
            "text/plain": [
              "Validating: 0it [00:00, ?it/s]"
            ]
          },
          "metadata": {}
        }
      ]
    },
    {
      "cell_type": "markdown",
      "source": [
        "## Visualization of the results"
      ],
      "metadata": {
        "id": "hCbOgWgltsxS"
      }
    },
    {
      "cell_type": "code",
      "source": [
        "%tensorboard --logdir lightning_logs"
      ],
      "metadata": {
        "id": "tc_qg0vKr_li"
      },
      "execution_count": null,
      "outputs": []
    },
    {
      "cell_type": "code",
      "source": [
        "def plot_segmentations(net, images, labels):\n",
        "    if torch.cuda.is_available():\n",
        "        images, labels = images.cuda(), labels.cuda()\n",
        "    #Pick random slice\n",
        "    n = np.random.randint(np.shape(images)[-1])\n",
        "    output = net(images)\n",
        "    output = F.softmax(output, dim=1)\n",
        "    pixels = torch.argmax(output[0], axis=0).float()/2\n",
        "    labels_map = torch.argmax(labels[0], axis=0)\n",
        "    fig = plt.figure(figsize=(15,10))\n",
        "    plt.subplot(1,3,1)\n",
        "    plt.title(\"CT image\")\n",
        "    plt.imshow(images[0,0,:,:,n].detach().cpu())\n",
        "    plt.subplot(1,3,2)\n",
        "    plt.title(\"Segmentation Map\")\n",
        "    plt.imshow(pixels[:,:,n].detach().cpu())\n",
        "    plt.subplot(1,3,3)\n",
        "    plt.title(\"RT Struct Label Map\")\n",
        "    plt.imshow(labels_map[:,:,n].detach().cpu())\n",
        "    return fig"
      ],
      "metadata": {
        "id": "15eUoNCptyLk"
      },
      "execution_count": null,
      "outputs": []
    },
    {
      "cell_type": "code",
      "source": [
        "inputs,labels = next(iter(validation_loader))\n",
        "model = model.cuda()\n",
        "fig = plot_segmentations(model, inputs, labels)\n",
        "plt.show()"
      ],
      "metadata": {
        "id": "6Emqpnlat_wB"
      },
      "execution_count": null,
      "outputs": []
    }
  ]
}