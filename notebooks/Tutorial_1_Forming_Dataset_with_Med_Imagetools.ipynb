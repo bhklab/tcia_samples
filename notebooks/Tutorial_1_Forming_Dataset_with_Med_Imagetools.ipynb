{
  "nbformat": 4,
  "nbformat_minor": 0,
  "metadata": {
    "colab": {
      "name": "Tutorial 1:  Forming Dataset with Med-Imagetools.ipynb",
      "provenance": [],
      "collapsed_sections": [],
      "toc_visible": true
    },
    "kernelspec": {
      "name": "python3",
      "display_name": "Python 3"
    },
    "language_info": {
      "name": "python"
    }
  },
  "cells": [
    {
      "cell_type": "markdown",
      "source": [
        "# Med Imagetools Tutorial 1: Forming the dataset"
      ],
      "metadata": {
        "id": "oPKR-Clc41Nk"
      }
    },
    {
      "cell_type": "markdown",
      "source": [
        "In this tutorial, we will show how with med imagetools one can process raw dataset consisting of various different types of modalities needing different processing pipelines. This tutorial will showcase the ease of forming new datasets which is Pytorch-ready for Machine learning pipeline.  \n",
        "We will showcase here one of the crucial classes Autopipeline in imgtools/autopipeline.py, which process all user defined modalities and stores them as nrrds while taking into account the different relationships between the modalities"
      ],
      "metadata": {
        "id": "MsN7TYE15ctA"
      }
    },
    {
      "cell_type": "markdown",
      "source": [
        "## Setup"
      ],
      "metadata": {
        "id": "OJUZRq2F6y1j"
      }
    },
    {
      "cell_type": "code",
      "execution_count": 1,
      "metadata": {
        "id": "a12X5aWBAKb-",
        "colab": {
          "base_uri": "https://localhost:8080/"
        },
        "outputId": "2318f033-93de-45f5-b09f-fd38ca7917c1"
      },
      "outputs": [
        {
          "output_type": "stream",
          "name": "stdout",
          "text": [
            "\u001b[K     |████████████████████████████████| 57 kB 2.5 MB/s \n",
            "\u001b[K     |████████████████████████████████| 2.0 MB 10.5 MB/s \n",
            "\u001b[K     |████████████████████████████████| 164 kB 32.4 MB/s \n",
            "\u001b[K     |████████████████████████████████| 48.4 MB 13 kB/s \n",
            "\u001b[?25h"
          ]
        }
      ],
      "source": [
        "%pip install --quiet med-imagetools\n",
        "%pip install --quiet med-imagetools[debug]"
      ]
    },
    {
      "cell_type": "code",
      "source": [
        "import os\n",
        "import shutil\n",
        "import pathlib\n",
        "import urllib.request as request\n",
        "from zipfile import ZipFile\n",
        "import torchio as tio\n",
        "from torch.utils.data import DataLoader\n",
        "from imgtools.autopipeline import AutoPipeline\n",
        "from imgtools.io import file_name_convention, Dataset\n",
        "import pandas as pd"
      ],
      "metadata": {
        "id": "fQ7Gfv-KA_In"
      },
      "execution_count": 2,
      "outputs": []
    },
    {
      "cell_type": "markdown",
      "source": [
        "## Download Sample Dataset"
      ],
      "metadata": {
        "id": "UnCaiOsrBPY-"
      }
    },
    {
      "cell_type": "code",
      "source": [
        "print(\"Downloading the test dataset...\")\n",
        "curr_path = pathlib.Path().parent.parent.resolve()\n",
        "quebec_path = pathlib.Path(os.path.join(curr_path, \"data\", \"Head-Neck-PET-CT\"))\n",
        "\n",
        "if not os.path.exists(quebec_path):\n",
        "  pathlib.Path(quebec_path).mkdir(parents=True, exist_ok=True)\n",
        "  quebec_data_url = \"https://github.com/bhklab/tcia_samples/blob/main/Head-Neck-PET-CT.zip?raw=true\"\n",
        "  quebec_zip_path = os.path.join(quebec_path, \"Head-Neck-PET-CT.zip\")\n",
        "  request.urlretrieve(quebec_data_url, quebec_zip_path) \n",
        "  with ZipFile(quebec_zip_path, 'r') as zipfile:\n",
        "      zipfile.extractall(quebec_path)\n",
        "  os.remove(quebec_zip_path)\n",
        "else:\n",
        "  print(\"Data already present\")"
      ],
      "metadata": {
        "colab": {
          "base_uri": "https://localhost:8080/"
        },
        "id": "_a4cec7ZBU50",
        "outputId": "96d8c30b-6edd-4102-f789-baa7488c080f"
      },
      "execution_count": 3,
      "outputs": [
        {
          "output_type": "stream",
          "name": "stdout",
          "text": [
            "Downloading the test dataset...\n"
          ]
        }
      ]
    },
    {
      "cell_type": "markdown",
      "source": [
        "From the downloaded data at /content/data/Head-Neck-PET-CT/ it can be seen that the data structure is not straight forward and very difficult to process for any ML pipeline. Additionally, its not clear from the file structure, what kind of modalities and relationships exists"
      ],
      "metadata": {
        "id": "kvWitmstC4YK"
      }
    },
    {
      "cell_type": "markdown",
      "source": [
        "## Autopipeline"
      ],
      "metadata": {
        "id": "Zm-88Df9EW1c"
      }
    },
    {
      "cell_type": "markdown",
      "source": [
        "For this test case lets consider dataset with the following modalities:-  \n",
        "1. CT\n",
        "2. RTSTRUCT\n",
        "3. RTDOSE \n",
        "\n",
        "Autopipeline first crawls through the raw dataset, indexes it and saves it where the data folder exists. Due to the wide variety of relationships between different modalities, an edge table is formed. Using the user defined modalties, the graph gets queried, and the relevant files are returned along with the relationships.\n",
        "\n",
        "Autopipeline takes 4 main inputs:-\n",
        "1. input_directory: (str) Location of rawdataset\n",
        "2. output_directory: (str) Location where processed dataset would be saved\n",
        "3. modalties: (str) Different modalties and the relationship that should be considered\n",
        "4. spacing: (tuple(int,int,int)) spacing in x,y,z coordinates "
      ],
      "metadata": {
        "id": "IZFXs3-dEsUu"
      }
    },
    {
      "cell_type": "code",
      "source": [
        "output_path = pathlib.Path(os.path.join(curr_path, \"processed_dataset\"))\n",
        "pipeline = AutoPipeline(input_directory = quebec_path,\n",
        "                        output_directory = output_path,\n",
        "                        modalities = \"CT,RTSTRUCT,RTDOSE\",\n",
        "                        spacing = (5,5,5),\n",
        "                        n_jobs = 2,\n",
        "                        visualize = True\n",
        "                        )\n",
        "pipeline.run()"
      ],
      "metadata": {
        "colab": {
          "base_uri": "https://localhost:8080/"
        },
        "id": "_Yf1i5RIERoc",
        "outputId": "d5d37cd1-9ff6-48aa-d5e6-afa0db15dae7"
      },
      "execution_count": 4,
      "outputs": [
        {
          "output_type": "stream",
          "name": "stdout",
          "text": [
            "Couldn't find the dataset index CSV. Indexing the dataset...\n"
          ]
        },
        {
          "output_type": "stream",
          "name": "stderr",
          "text": [
            "100%|██████████| 2/2 [00:00<00:00, 22.73it/s]\n"
          ]
        },
        {
          "output_type": "stream",
          "name": "stdout",
          "text": [
            "Number of patients in the dataset: 2\n",
            "Edge table not present. Forming the edge table based on the crawl data...\n"
          ]
        },
        {
          "output_type": "stream",
          "name": "stderr",
          "text": [
            "100%|██████████| 2/2 [00:00<00:00, 24.91it/s]"
          ]
        },
        {
          "output_type": "stream",
          "name": "stdout",
          "text": [
            "\n",
            "Total time taken: 0.08674931526184082\n",
            "Saving edge table in /content/data/imgtools_Head-Neck-PET-CT_edges.csv\n"
          ]
        },
        {
          "output_type": "stream",
          "name": "stderr",
          "text": [
            "\n"
          ]
        },
        {
          "output_type": "stream",
          "name": "stdout",
          "text": [
            "Generating visualizations...\n",
            "Forming the graph based on the given modalities: CT,RTSTRUCT,RTDOSE\n",
            "There are 2 cases containing all CT,RTSTRUCT,RTDOSE modalities.\n"
          ]
        },
        {
          "output_type": "stream",
          "name": "stderr",
          "text": [
            "/usr/local/lib/python3.7/dist-packages/pandas/core/strings.py:2001: UserWarning: This pattern has match groups. To actually get the groups, use str.extract.\n",
            "  return func(self, *args, **kwargs)\n",
            "/usr/local/lib/python3.7/dist-packages/numpy/core/_asarray.py:83: VisibleDeprecationWarning: Creating an ndarray from ragged nested sequences (which is a list-or-tuple of lists-or-tuples-or ndarrays with different lengths or shapes) is deprecated. If you meant to do this, you must specify 'dtype=object' when creating the ndarray\n",
            "  return array(a, dtype, copy=False, order=order)\n",
            "/usr/local/lib/python3.7/dist-packages/pandas/core/internals/blocks.py:849: VisibleDeprecationWarning: Creating an ndarray from ragged nested sequences (which is a list-or-tuple of lists-or-tuples-or ndarrays with different lengths or shapes) is deprecated. If you meant to do this, you must specify 'dtype=object' when creating the ndarray\n",
            "  arr_value = np.array(value)\n"
          ]
        }
      ]
    },
    {
      "cell_type": "markdown",
      "source": [
        "## Output Files\n",
        "Autopipeline gives 4 files along with the processed dicom files\n",
        "1. /data/*{dataset_name}*/imgtools_*{dataset_name}*.csv: crawl output\n",
        "2. /data/*{dataset_name}*/imgtools_*{dataset_name}_edges*.csv: edge table\n",
        "3. /data/*{dataset_name}*/datanet.html: For visualizing the dataset with graphs\n",
        "4. *{output_path}*/dataset.csv: Metadata of different components saved "
      ],
      "metadata": {
        "id": "zLU-X9aZHRvK"
      }
    },
    {
      "cell_type": "markdown",
      "source": [
        "### Crawl ouput"
      ],
      "metadata": {
        "id": "eIJETxEH5cGG"
      }
    },
    {
      "cell_type": "code",
      "source": [
        "df = pd.read_csv(os.path.join(os.path.dirname(quebec_path),\"imgtools_Head-Neck-PET-CT.csv\"),index_col=0)\n",
        "df"
      ],
      "metadata": {
        "colab": {
          "base_uri": "https://localhost:8080/",
          "height": 862
        },
        "id": "fG6l7D3OML2A",
        "outputId": "382da7b3-1d5e-4ba9-b1a0-5bc37c3fc61b"
      },
      "execution_count": 11,
      "outputs": [
        {
          "output_type": "execute_result",
          "data": {
            "text/html": [
              "<div>\n",
              "<style scoped>\n",
              "    .dataframe tbody tr th:only-of-type {\n",
              "        vertical-align: middle;\n",
              "    }\n",
              "\n",
              "    .dataframe tbody tr th {\n",
              "        vertical-align: top;\n",
              "    }\n",
              "\n",
              "    .dataframe thead th {\n",
              "        text-align: right;\n",
              "    }\n",
              "</style>\n",
              "<table border=\"1\" class=\"dataframe\">\n",
              "  <thead>\n",
              "    <tr style=\"text-align: right;\">\n",
              "      <th></th>\n",
              "      <th>folder</th>\n",
              "      <th>instance_uid</th>\n",
              "      <th>instances</th>\n",
              "      <th>modality</th>\n",
              "      <th>patient_ID</th>\n",
              "      <th>reference_ct</th>\n",
              "      <th>reference_frame</th>\n",
              "      <th>reference_pl</th>\n",
              "      <th>reference_rs</th>\n",
              "      <th>series</th>\n",
              "      <th>series_description</th>\n",
              "      <th>study</th>\n",
              "      <th>study_description</th>\n",
              "    </tr>\n",
              "  </thead>\n",
              "  <tbody>\n",
              "    <tr>\n",
              "      <th>0</th>\n",
              "      <td>/content/data/Head-Neck-PET-CT/HN-CHUS-082/08-...</td>\n",
              "      <td>1.3.6.1.4.1.14519.5.2.1.5168.2407.766477766548...</td>\n",
              "      <td>1.0</td>\n",
              "      <td>RTSTRUCT</td>\n",
              "      <td>HN-CHUS-082</td>\n",
              "      <td>1.3.6.1.4.1.14519.5.2.1.5168.2407.289342954540...</td>\n",
              "      <td>1.3.6.1.4.1.14519.5.2.1.5168.2407.175687945653...</td>\n",
              "      <td>NaN</td>\n",
              "      <td>NaN</td>\n",
              "      <td>1.3.6.1.4.1.14519.5.2.1.5168.2407.766477766548...</td>\n",
              "      <td>RTstruct_CTsim-&gt;PET(PET-CT)</td>\n",
              "      <td>1.3.6.1.4.1.14519.5.2.1.5168.2407.510837068387...</td>\n",
              "      <td>TEP cancerologique [TEP]</td>\n",
              "    </tr>\n",
              "    <tr>\n",
              "      <th>1</th>\n",
              "      <td>/content/data/Head-Neck-PET-CT/HN-CHUS-082/08-...</td>\n",
              "      <td>1.3.6.1.4.1.14519.5.2.1.5168.2407.105007968190...</td>\n",
              "      <td>234.0</td>\n",
              "      <td>PT</td>\n",
              "      <td>HN-CHUS-082</td>\n",
              "      <td>NaN</td>\n",
              "      <td>1.3.6.1.4.1.14519.5.2.1.5168.2407.175687945653...</td>\n",
              "      <td>NaN</td>\n",
              "      <td>NaN</td>\n",
              "      <td>1.3.6.1.4.1.14519.5.2.1.5168.2407.289342954540...</td>\n",
              "      <td>LOR-RAMLA</td>\n",
              "      <td>1.3.6.1.4.1.14519.5.2.1.5168.2407.510837068387...</td>\n",
              "      <td>TEP cancerologique [TEP]</td>\n",
              "    </tr>\n",
              "    <tr>\n",
              "      <th>2</th>\n",
              "      <td>/content/data/Head-Neck-PET-CT/HN-CHUS-082/08-...</td>\n",
              "      <td>1.3.6.1.4.1.14519.5.2.1.5168.2407.179765748272...</td>\n",
              "      <td>2.0</td>\n",
              "      <td>RTSTRUCT</td>\n",
              "      <td>HN-CHUS-082</td>\n",
              "      <td>1.3.6.1.4.1.14519.5.2.1.5168.2407.208685212796...</td>\n",
              "      <td>1.3.6.1.4.1.14519.5.2.1.5168.2407.175687945653...</td>\n",
              "      <td>NaN</td>\n",
              "      <td>NaN</td>\n",
              "      <td>1.3.6.1.4.1.14519.5.2.1.5168.2407.156522899867...</td>\n",
              "      <td>Pinnacle POI</td>\n",
              "      <td>1.3.6.1.4.1.14519.5.2.1.5168.2407.510837068387...</td>\n",
              "      <td>TEP cancerologique [TEP]</td>\n",
              "    </tr>\n",
              "    <tr>\n",
              "      <th>3</th>\n",
              "      <td>/content/data/Head-Neck-PET-CT/HN-CHUS-082/08-...</td>\n",
              "      <td>1.3.6.1.4.1.14519.5.2.1.5168.2407.282571492555...</td>\n",
              "      <td>1.0</td>\n",
              "      <td>RTDOSE</td>\n",
              "      <td>HN-CHUS-082</td>\n",
              "      <td>NaN</td>\n",
              "      <td>1.3.6.1.4.1.14519.5.2.1.5168.2407.175687945653...</td>\n",
              "      <td>1.3.6.1.4.1.14519.5.2.1.5168.2407.121619654285...</td>\n",
              "      <td>NaN</td>\n",
              "      <td>1.3.6.1.4.1.14519.5.2.1.5168.2407.104174488062...</td>\n",
              "      <td>NaN</td>\n",
              "      <td>1.3.6.1.4.1.14519.5.2.1.5168.2407.510837068387...</td>\n",
              "      <td>TEP cancerologique [TEP]</td>\n",
              "    </tr>\n",
              "    <tr>\n",
              "      <th>4</th>\n",
              "      <td>/content/data/Head-Neck-PET-CT/HN-CHUS-082/08-...</td>\n",
              "      <td>1.3.6.1.4.1.14519.5.2.1.5168.2407.121619654285...</td>\n",
              "      <td>1.0</td>\n",
              "      <td>RTPLAN</td>\n",
              "      <td>HN-CHUS-082</td>\n",
              "      <td>NaN</td>\n",
              "      <td>1.3.6.1.4.1.14519.5.2.1.5168.2407.175687945653...</td>\n",
              "      <td>NaN</td>\n",
              "      <td>1.3.6.1.4.1.14519.5.2.1.5168.2407.179765748272...</td>\n",
              "      <td>1.3.6.1.4.1.14519.5.2.1.5168.2407.112437338536...</td>\n",
              "      <td>NaN</td>\n",
              "      <td>1.3.6.1.4.1.14519.5.2.1.5168.2407.510837068387...</td>\n",
              "      <td>TEP cancerologique [TEP]</td>\n",
              "    </tr>\n",
              "    <tr>\n",
              "      <th>5</th>\n",
              "      <td>/content/data/Head-Neck-PET-CT/HN-CHUS-082/08-...</td>\n",
              "      <td>1.3.6.1.4.1.14519.5.2.1.5168.2407.329354641638...</td>\n",
              "      <td>134.0</td>\n",
              "      <td>CT</td>\n",
              "      <td>HN-CHUS-082</td>\n",
              "      <td>1.3.6.1.4.1.14519.5.2.1.5168.2407.575900405303...</td>\n",
              "      <td>1.3.6.1.4.1.14519.5.2.1.5168.2407.175687945653...</td>\n",
              "      <td>NaN</td>\n",
              "      <td>NaN</td>\n",
              "      <td>1.3.6.1.4.1.14519.5.2.1.5168.2407.208685212796...</td>\n",
              "      <td>Merged</td>\n",
              "      <td>1.3.6.1.4.1.14519.5.2.1.5168.2407.510837068387...</td>\n",
              "      <td>TEP cancerologique [TEP]</td>\n",
              "    </tr>\n",
              "    <tr>\n",
              "      <th>6</th>\n",
              "      <td>/content/data/Head-Neck-PET-CT/HN-CHUS-052/08-...</td>\n",
              "      <td>1.3.6.1.4.1.14519.5.2.1.5168.2407.645289681167...</td>\n",
              "      <td>1.0</td>\n",
              "      <td>RTPLAN</td>\n",
              "      <td>HN-CHUS-052</td>\n",
              "      <td>NaN</td>\n",
              "      <td>1.3.6.1.4.1.14519.5.2.1.5168.2407.162021466661...</td>\n",
              "      <td>NaN</td>\n",
              "      <td>1.3.6.1.4.1.14519.5.2.1.5168.2407.196238472009...</td>\n",
              "      <td>1.3.6.1.4.1.14519.5.2.1.5168.2407.180996930421...</td>\n",
              "      <td>NaN</td>\n",
              "      <td>1.3.6.1.4.1.14519.5.2.1.5168.2407.270192284011...</td>\n",
              "      <td>Oroph_CB.0:Oroph_CB::TRTID derived (StudyInsta...</td>\n",
              "    </tr>\n",
              "    <tr>\n",
              "      <th>7</th>\n",
              "      <td>/content/data/Head-Neck-PET-CT/HN-CHUS-052/08-...</td>\n",
              "      <td>1.3.6.1.4.1.14519.5.2.1.5168.2407.196238472009...</td>\n",
              "      <td>1.0</td>\n",
              "      <td>RTSTRUCT</td>\n",
              "      <td>HN-CHUS-052</td>\n",
              "      <td>1.3.6.1.4.1.14519.5.2.1.5168.2407.316675519384...</td>\n",
              "      <td>1.3.6.1.4.1.14519.5.2.1.5168.2407.162021466661...</td>\n",
              "      <td>NaN</td>\n",
              "      <td>NaN</td>\n",
              "      <td>1.3.6.1.4.1.14519.5.2.1.5168.2407.259673657557...</td>\n",
              "      <td>Pinnacle POI</td>\n",
              "      <td>1.3.6.1.4.1.14519.5.2.1.5168.2407.270192284011...</td>\n",
              "      <td>Oroph_CB.0:Oroph_CB::TRTID derived (StudyInsta...</td>\n",
              "    </tr>\n",
              "    <tr>\n",
              "      <th>8</th>\n",
              "      <td>/content/data/Head-Neck-PET-CT/HN-CHUS-052/08-...</td>\n",
              "      <td>1.3.6.1.4.1.14519.5.2.1.5168.2407.172774347407...</td>\n",
              "      <td>1.0</td>\n",
              "      <td>RTDOSE</td>\n",
              "      <td>HN-CHUS-052</td>\n",
              "      <td>NaN</td>\n",
              "      <td>1.3.6.1.4.1.14519.5.2.1.5168.2407.162021466661...</td>\n",
              "      <td>1.3.6.1.4.1.14519.5.2.1.5168.2407.645289681167...</td>\n",
              "      <td>NaN</td>\n",
              "      <td>1.3.6.1.4.1.14519.5.2.1.5168.2407.241156363783...</td>\n",
              "      <td>NaN</td>\n",
              "      <td>1.3.6.1.4.1.14519.5.2.1.5168.2407.270192284011...</td>\n",
              "      <td>Oroph_CB.0:Oroph_CB::TRTID derived (StudyInsta...</td>\n",
              "    </tr>\n",
              "    <tr>\n",
              "      <th>9</th>\n",
              "      <td>/content/data/Head-Neck-PET-CT/HN-CHUS-052/08-...</td>\n",
              "      <td>1.3.6.1.4.1.14519.5.2.1.5168.2407.174060535505...</td>\n",
              "      <td>132.0</td>\n",
              "      <td>CT</td>\n",
              "      <td>HN-CHUS-052</td>\n",
              "      <td>1.3.6.1.4.1.14519.5.2.1.5168.2407.127778300374...</td>\n",
              "      <td>1.3.6.1.4.1.14519.5.2.1.5168.2407.162021466661...</td>\n",
              "      <td>NaN</td>\n",
              "      <td>NaN</td>\n",
              "      <td>1.3.6.1.4.1.14519.5.2.1.5168.2407.316675519384...</td>\n",
              "      <td>Merged</td>\n",
              "      <td>1.3.6.1.4.1.14519.5.2.1.5168.2407.270192284011...</td>\n",
              "      <td>Oroph_CB.0:Oroph_CB::TRTID derived (StudyInsta...</td>\n",
              "    </tr>\n",
              "    <tr>\n",
              "      <th>10</th>\n",
              "      <td>/content/data/Head-Neck-PET-CT/HN-CHUS-052/08-...</td>\n",
              "      <td>1.3.6.1.4.1.14519.5.2.1.5168.2407.105065754632...</td>\n",
              "      <td>255.0</td>\n",
              "      <td>PT</td>\n",
              "      <td>HN-CHUS-052</td>\n",
              "      <td>NaN</td>\n",
              "      <td>1.3.6.1.4.1.14519.5.2.1.5168.2407.162021466661...</td>\n",
              "      <td>NaN</td>\n",
              "      <td>NaN</td>\n",
              "      <td>1.3.6.1.4.1.14519.5.2.1.5168.2407.267511642604...</td>\n",
              "      <td>LOR-RAMLA</td>\n",
              "      <td>1.3.6.1.4.1.14519.5.2.1.5168.2407.270192284011...</td>\n",
              "      <td>Oroph_CB.0:Oroph_CB::TRTID derived (StudyInsta...</td>\n",
              "    </tr>\n",
              "    <tr>\n",
              "      <th>11</th>\n",
              "      <td>/content/data/Head-Neck-PET-CT/HN-CHUS-052/08-...</td>\n",
              "      <td>1.3.6.1.4.1.14519.5.2.1.5168.2407.442248252736...</td>\n",
              "      <td>1.0</td>\n",
              "      <td>RTSTRUCT</td>\n",
              "      <td>HN-CHUS-052</td>\n",
              "      <td>1.3.6.1.4.1.14519.5.2.1.5168.2407.267511642604...</td>\n",
              "      <td>1.3.6.1.4.1.14519.5.2.1.5168.2407.162021466661...</td>\n",
              "      <td>NaN</td>\n",
              "      <td>NaN</td>\n",
              "      <td>1.3.6.1.4.1.14519.5.2.1.5168.2407.442248252736...</td>\n",
              "      <td>RTstruct_CTsim-&gt;PET(PET-CT)</td>\n",
              "      <td>1.3.6.1.4.1.14519.5.2.1.5168.2407.270192284011...</td>\n",
              "      <td>Oroph_CB.0:Oroph_CB::TRTID derived (StudyInsta...</td>\n",
              "    </tr>\n",
              "  </tbody>\n",
              "</table>\n",
              "</div>"
            ],
            "text/plain": [
              "                                               folder  ...                                  study_description\n",
              "0   /content/data/Head-Neck-PET-CT/HN-CHUS-082/08-...  ...                           TEP cancerologique [TEP]\n",
              "1   /content/data/Head-Neck-PET-CT/HN-CHUS-082/08-...  ...                           TEP cancerologique [TEP]\n",
              "2   /content/data/Head-Neck-PET-CT/HN-CHUS-082/08-...  ...                           TEP cancerologique [TEP]\n",
              "3   /content/data/Head-Neck-PET-CT/HN-CHUS-082/08-...  ...                           TEP cancerologique [TEP]\n",
              "4   /content/data/Head-Neck-PET-CT/HN-CHUS-082/08-...  ...                           TEP cancerologique [TEP]\n",
              "5   /content/data/Head-Neck-PET-CT/HN-CHUS-082/08-...  ...                           TEP cancerologique [TEP]\n",
              "6   /content/data/Head-Neck-PET-CT/HN-CHUS-052/08-...  ...  Oroph_CB.0:Oroph_CB::TRTID derived (StudyInsta...\n",
              "7   /content/data/Head-Neck-PET-CT/HN-CHUS-052/08-...  ...  Oroph_CB.0:Oroph_CB::TRTID derived (StudyInsta...\n",
              "8   /content/data/Head-Neck-PET-CT/HN-CHUS-052/08-...  ...  Oroph_CB.0:Oroph_CB::TRTID derived (StudyInsta...\n",
              "9   /content/data/Head-Neck-PET-CT/HN-CHUS-052/08-...  ...  Oroph_CB.0:Oroph_CB::TRTID derived (StudyInsta...\n",
              "10  /content/data/Head-Neck-PET-CT/HN-CHUS-052/08-...  ...  Oroph_CB.0:Oroph_CB::TRTID derived (StudyInsta...\n",
              "11  /content/data/Head-Neck-PET-CT/HN-CHUS-052/08-...  ...  Oroph_CB.0:Oroph_CB::TRTID derived (StudyInsta...\n",
              "\n",
              "[12 rows x 13 columns]"
            ]
          },
          "metadata": {},
          "execution_count": 11
        }
      ]
    },
    {
      "cell_type": "markdown",
      "source": [
        "### Edge table"
      ],
      "metadata": {
        "id": "U3oReuVAMcr6"
      }
    },
    {
      "cell_type": "code",
      "source": [
        "df = pd.read_csv(os.path.join(os.path.dirname(quebec_path),\"imgtools_Head-Neck-PET-CT_edges.csv\"))\n",
        "df"
      ],
      "metadata": {
        "colab": {
          "base_uri": "https://localhost:8080/",
          "height": 598
        },
        "id": "ZX2j5014MdGU",
        "outputId": "af994f6f-6dba-4b20-8134-ea31581fdf6b"
      },
      "execution_count": 15,
      "outputs": [
        {
          "output_type": "execute_result",
          "data": {
            "text/html": [
              "<div>\n",
              "<style scoped>\n",
              "    .dataframe tbody tr th:only-of-type {\n",
              "        vertical-align: middle;\n",
              "    }\n",
              "\n",
              "    .dataframe tbody tr th {\n",
              "        vertical-align: top;\n",
              "    }\n",
              "\n",
              "    .dataframe thead th {\n",
              "        text-align: right;\n",
              "    }\n",
              "</style>\n",
              "<table border=\"1\" class=\"dataframe\">\n",
              "  <thead>\n",
              "    <tr style=\"text-align: right;\">\n",
              "      <th></th>\n",
              "      <th>folder_x</th>\n",
              "      <th>instance_uid_x</th>\n",
              "      <th>instances_x</th>\n",
              "      <th>modality_x</th>\n",
              "      <th>patient_ID_x</th>\n",
              "      <th>reference_ct_x</th>\n",
              "      <th>reference_frame_x</th>\n",
              "      <th>reference_pl_x</th>\n",
              "      <th>reference_rs_x</th>\n",
              "      <th>series_x</th>\n",
              "      <th>series_description_x</th>\n",
              "      <th>study_x</th>\n",
              "      <th>study_description_x</th>\n",
              "      <th>folder_y</th>\n",
              "      <th>instance_uid_y</th>\n",
              "      <th>instances_y</th>\n",
              "      <th>modality_y</th>\n",
              "      <th>reference_ct_y</th>\n",
              "      <th>reference_frame_y</th>\n",
              "      <th>reference_pl_y</th>\n",
              "      <th>reference_rs_y</th>\n",
              "      <th>series_y</th>\n",
              "      <th>edge_type</th>\n",
              "    </tr>\n",
              "  </thead>\n",
              "  <tbody>\n",
              "    <tr>\n",
              "      <th>0</th>\n",
              "      <td>/content/data/Head-Neck-PET-CT/HN-CHUS-082/08-...</td>\n",
              "      <td>1.3.6.1.4.1.14519.5.2.1.5168.2407.179765748272...</td>\n",
              "      <td>2.0</td>\n",
              "      <td>RTSTRUCT</td>\n",
              "      <td>HN-CHUS-082</td>\n",
              "      <td>1.3.6.1.4.1.14519.5.2.1.5168.2407.208685212796...</td>\n",
              "      <td>1.3.6.1.4.1.14519.5.2.1.5168.2407.175687945653...</td>\n",
              "      <td>NaN</td>\n",
              "      <td>NaN</td>\n",
              "      <td>1.3.6.1.4.1.14519.5.2.1.5168.2407.156522899867...</td>\n",
              "      <td>Pinnacle POI</td>\n",
              "      <td>1.3.6.1.4.1.14519.5.2.1.5168.2407.510837068387...</td>\n",
              "      <td>TEP cancerologique [TEP]</td>\n",
              "      <td>/content/data/Head-Neck-PET-CT/HN-CHUS-082/08-...</td>\n",
              "      <td>1.3.6.1.4.1.14519.5.2.1.5168.2407.282571492555...</td>\n",
              "      <td>1.0</td>\n",
              "      <td>RTDOSE</td>\n",
              "      <td>NaN</td>\n",
              "      <td>1.3.6.1.4.1.14519.5.2.1.5168.2407.175687945653...</td>\n",
              "      <td>1.3.6.1.4.1.14519.5.2.1.5168.2407.121619654285...</td>\n",
              "      <td>1.3.6.1.4.1.14519.5.2.1.5168.2407.179765748272...</td>\n",
              "      <td>1.3.6.1.4.1.14519.5.2.1.5168.2407.104174488062...</td>\n",
              "      <td>0</td>\n",
              "    </tr>\n",
              "    <tr>\n",
              "      <th>1</th>\n",
              "      <td>/content/data/Head-Neck-PET-CT/HN-CHUS-082/08-...</td>\n",
              "      <td>1.3.6.1.4.1.14519.5.2.1.5168.2407.329354641638...</td>\n",
              "      <td>134.0</td>\n",
              "      <td>CT</td>\n",
              "      <td>HN-CHUS-082</td>\n",
              "      <td>1.3.6.1.4.1.14519.5.2.1.5168.2407.575900405303...</td>\n",
              "      <td>1.3.6.1.4.1.14519.5.2.1.5168.2407.175687945653...</td>\n",
              "      <td>NaN</td>\n",
              "      <td>NaN</td>\n",
              "      <td>1.3.6.1.4.1.14519.5.2.1.5168.2407.208685212796...</td>\n",
              "      <td>Merged</td>\n",
              "      <td>1.3.6.1.4.1.14519.5.2.1.5168.2407.510837068387...</td>\n",
              "      <td>TEP cancerologique [TEP]</td>\n",
              "      <td>/content/data/Head-Neck-PET-CT/HN-CHUS-082/08-...</td>\n",
              "      <td>1.3.6.1.4.1.14519.5.2.1.5168.2407.179765748272...</td>\n",
              "      <td>2.0</td>\n",
              "      <td>RTSTRUCT</td>\n",
              "      <td>1.3.6.1.4.1.14519.5.2.1.5168.2407.208685212796...</td>\n",
              "      <td>1.3.6.1.4.1.14519.5.2.1.5168.2407.175687945653...</td>\n",
              "      <td>NaN</td>\n",
              "      <td>NaN</td>\n",
              "      <td>1.3.6.1.4.1.14519.5.2.1.5168.2407.156522899867...</td>\n",
              "      <td>2</td>\n",
              "    </tr>\n",
              "    <tr>\n",
              "      <th>2</th>\n",
              "      <td>/content/data/Head-Neck-PET-CT/HN-CHUS-082/08-...</td>\n",
              "      <td>1.3.6.1.4.1.14519.5.2.1.5168.2407.105007968190...</td>\n",
              "      <td>234.0</td>\n",
              "      <td>PT</td>\n",
              "      <td>HN-CHUS-082</td>\n",
              "      <td>NaN</td>\n",
              "      <td>1.3.6.1.4.1.14519.5.2.1.5168.2407.175687945653...</td>\n",
              "      <td>NaN</td>\n",
              "      <td>NaN</td>\n",
              "      <td>1.3.6.1.4.1.14519.5.2.1.5168.2407.289342954540...</td>\n",
              "      <td>LOR-RAMLA</td>\n",
              "      <td>1.3.6.1.4.1.14519.5.2.1.5168.2407.510837068387...</td>\n",
              "      <td>TEP cancerologique [TEP]</td>\n",
              "      <td>/content/data/Head-Neck-PET-CT/HN-CHUS-082/08-...</td>\n",
              "      <td>1.3.6.1.4.1.14519.5.2.1.5168.2407.766477766548...</td>\n",
              "      <td>1.0</td>\n",
              "      <td>RTSTRUCT</td>\n",
              "      <td>1.3.6.1.4.1.14519.5.2.1.5168.2407.289342954540...</td>\n",
              "      <td>1.3.6.1.4.1.14519.5.2.1.5168.2407.175687945653...</td>\n",
              "      <td>NaN</td>\n",
              "      <td>NaN</td>\n",
              "      <td>1.3.6.1.4.1.14519.5.2.1.5168.2407.766477766548...</td>\n",
              "      <td>3</td>\n",
              "    </tr>\n",
              "    <tr>\n",
              "      <th>3</th>\n",
              "      <td>/content/data/Head-Neck-PET-CT/HN-CHUS-082/08-...</td>\n",
              "      <td>1.3.6.1.4.1.14519.5.2.1.5168.2407.329354641638...</td>\n",
              "      <td>134.0</td>\n",
              "      <td>CT</td>\n",
              "      <td>HN-CHUS-082</td>\n",
              "      <td>1.3.6.1.4.1.14519.5.2.1.5168.2407.575900405303...</td>\n",
              "      <td>1.3.6.1.4.1.14519.5.2.1.5168.2407.175687945653...</td>\n",
              "      <td>NaN</td>\n",
              "      <td>NaN</td>\n",
              "      <td>1.3.6.1.4.1.14519.5.2.1.5168.2407.208685212796...</td>\n",
              "      <td>Merged</td>\n",
              "      <td>1.3.6.1.4.1.14519.5.2.1.5168.2407.510837068387...</td>\n",
              "      <td>TEP cancerologique [TEP]</td>\n",
              "      <td>/content/data/Head-Neck-PET-CT/HN-CHUS-082/08-...</td>\n",
              "      <td>1.3.6.1.4.1.14519.5.2.1.5168.2407.105007968190...</td>\n",
              "      <td>234.0</td>\n",
              "      <td>PT</td>\n",
              "      <td>NaN</td>\n",
              "      <td>1.3.6.1.4.1.14519.5.2.1.5168.2407.175687945653...</td>\n",
              "      <td>NaN</td>\n",
              "      <td>NaN</td>\n",
              "      <td>1.3.6.1.4.1.14519.5.2.1.5168.2407.289342954540...</td>\n",
              "      <td>4</td>\n",
              "    </tr>\n",
              "    <tr>\n",
              "      <th>4</th>\n",
              "      <td>/content/data/Head-Neck-PET-CT/HN-CHUS-052/08-...</td>\n",
              "      <td>1.3.6.1.4.1.14519.5.2.1.5168.2407.196238472009...</td>\n",
              "      <td>1.0</td>\n",
              "      <td>RTSTRUCT</td>\n",
              "      <td>HN-CHUS-052</td>\n",
              "      <td>1.3.6.1.4.1.14519.5.2.1.5168.2407.316675519384...</td>\n",
              "      <td>1.3.6.1.4.1.14519.5.2.1.5168.2407.162021466661...</td>\n",
              "      <td>NaN</td>\n",
              "      <td>NaN</td>\n",
              "      <td>1.3.6.1.4.1.14519.5.2.1.5168.2407.259673657557...</td>\n",
              "      <td>Pinnacle POI</td>\n",
              "      <td>1.3.6.1.4.1.14519.5.2.1.5168.2407.270192284011...</td>\n",
              "      <td>Oroph_CB.0:Oroph_CB::TRTID derived (StudyInsta...</td>\n",
              "      <td>/content/data/Head-Neck-PET-CT/HN-CHUS-052/08-...</td>\n",
              "      <td>1.3.6.1.4.1.14519.5.2.1.5168.2407.172774347407...</td>\n",
              "      <td>1.0</td>\n",
              "      <td>RTDOSE</td>\n",
              "      <td>NaN</td>\n",
              "      <td>1.3.6.1.4.1.14519.5.2.1.5168.2407.162021466661...</td>\n",
              "      <td>1.3.6.1.4.1.14519.5.2.1.5168.2407.645289681167...</td>\n",
              "      <td>1.3.6.1.4.1.14519.5.2.1.5168.2407.196238472009...</td>\n",
              "      <td>1.3.6.1.4.1.14519.5.2.1.5168.2407.241156363783...</td>\n",
              "      <td>0</td>\n",
              "    </tr>\n",
              "    <tr>\n",
              "      <th>5</th>\n",
              "      <td>/content/data/Head-Neck-PET-CT/HN-CHUS-052/08-...</td>\n",
              "      <td>1.3.6.1.4.1.14519.5.2.1.5168.2407.174060535505...</td>\n",
              "      <td>132.0</td>\n",
              "      <td>CT</td>\n",
              "      <td>HN-CHUS-052</td>\n",
              "      <td>1.3.6.1.4.1.14519.5.2.1.5168.2407.127778300374...</td>\n",
              "      <td>1.3.6.1.4.1.14519.5.2.1.5168.2407.162021466661...</td>\n",
              "      <td>NaN</td>\n",
              "      <td>NaN</td>\n",
              "      <td>1.3.6.1.4.1.14519.5.2.1.5168.2407.316675519384...</td>\n",
              "      <td>Merged</td>\n",
              "      <td>1.3.6.1.4.1.14519.5.2.1.5168.2407.270192284011...</td>\n",
              "      <td>Oroph_CB.0:Oroph_CB::TRTID derived (StudyInsta...</td>\n",
              "      <td>/content/data/Head-Neck-PET-CT/HN-CHUS-052/08-...</td>\n",
              "      <td>1.3.6.1.4.1.14519.5.2.1.5168.2407.196238472009...</td>\n",
              "      <td>1.0</td>\n",
              "      <td>RTSTRUCT</td>\n",
              "      <td>1.3.6.1.4.1.14519.5.2.1.5168.2407.316675519384...</td>\n",
              "      <td>1.3.6.1.4.1.14519.5.2.1.5168.2407.162021466661...</td>\n",
              "      <td>NaN</td>\n",
              "      <td>NaN</td>\n",
              "      <td>1.3.6.1.4.1.14519.5.2.1.5168.2407.259673657557...</td>\n",
              "      <td>2</td>\n",
              "    </tr>\n",
              "    <tr>\n",
              "      <th>6</th>\n",
              "      <td>/content/data/Head-Neck-PET-CT/HN-CHUS-052/08-...</td>\n",
              "      <td>1.3.6.1.4.1.14519.5.2.1.5168.2407.105065754632...</td>\n",
              "      <td>255.0</td>\n",
              "      <td>PT</td>\n",
              "      <td>HN-CHUS-052</td>\n",
              "      <td>NaN</td>\n",
              "      <td>1.3.6.1.4.1.14519.5.2.1.5168.2407.162021466661...</td>\n",
              "      <td>NaN</td>\n",
              "      <td>NaN</td>\n",
              "      <td>1.3.6.1.4.1.14519.5.2.1.5168.2407.267511642604...</td>\n",
              "      <td>LOR-RAMLA</td>\n",
              "      <td>1.3.6.1.4.1.14519.5.2.1.5168.2407.270192284011...</td>\n",
              "      <td>Oroph_CB.0:Oroph_CB::TRTID derived (StudyInsta...</td>\n",
              "      <td>/content/data/Head-Neck-PET-CT/HN-CHUS-052/08-...</td>\n",
              "      <td>1.3.6.1.4.1.14519.5.2.1.5168.2407.442248252736...</td>\n",
              "      <td>1.0</td>\n",
              "      <td>RTSTRUCT</td>\n",
              "      <td>1.3.6.1.4.1.14519.5.2.1.5168.2407.267511642604...</td>\n",
              "      <td>1.3.6.1.4.1.14519.5.2.1.5168.2407.162021466661...</td>\n",
              "      <td>NaN</td>\n",
              "      <td>NaN</td>\n",
              "      <td>1.3.6.1.4.1.14519.5.2.1.5168.2407.442248252736...</td>\n",
              "      <td>3</td>\n",
              "    </tr>\n",
              "    <tr>\n",
              "      <th>7</th>\n",
              "      <td>/content/data/Head-Neck-PET-CT/HN-CHUS-052/08-...</td>\n",
              "      <td>1.3.6.1.4.1.14519.5.2.1.5168.2407.174060535505...</td>\n",
              "      <td>132.0</td>\n",
              "      <td>CT</td>\n",
              "      <td>HN-CHUS-052</td>\n",
              "      <td>1.3.6.1.4.1.14519.5.2.1.5168.2407.127778300374...</td>\n",
              "      <td>1.3.6.1.4.1.14519.5.2.1.5168.2407.162021466661...</td>\n",
              "      <td>NaN</td>\n",
              "      <td>NaN</td>\n",
              "      <td>1.3.6.1.4.1.14519.5.2.1.5168.2407.316675519384...</td>\n",
              "      <td>Merged</td>\n",
              "      <td>1.3.6.1.4.1.14519.5.2.1.5168.2407.270192284011...</td>\n",
              "      <td>Oroph_CB.0:Oroph_CB::TRTID derived (StudyInsta...</td>\n",
              "      <td>/content/data/Head-Neck-PET-CT/HN-CHUS-052/08-...</td>\n",
              "      <td>1.3.6.1.4.1.14519.5.2.1.5168.2407.105065754632...</td>\n",
              "      <td>255.0</td>\n",
              "      <td>PT</td>\n",
              "      <td>NaN</td>\n",
              "      <td>1.3.6.1.4.1.14519.5.2.1.5168.2407.162021466661...</td>\n",
              "      <td>NaN</td>\n",
              "      <td>NaN</td>\n",
              "      <td>1.3.6.1.4.1.14519.5.2.1.5168.2407.267511642604...</td>\n",
              "      <td>4</td>\n",
              "    </tr>\n",
              "  </tbody>\n",
              "</table>\n",
              "</div>"
            ],
            "text/plain": [
              "                                            folder_x  ... edge_type\n",
              "0  /content/data/Head-Neck-PET-CT/HN-CHUS-082/08-...  ...         0\n",
              "1  /content/data/Head-Neck-PET-CT/HN-CHUS-082/08-...  ...         2\n",
              "2  /content/data/Head-Neck-PET-CT/HN-CHUS-082/08-...  ...         3\n",
              "3  /content/data/Head-Neck-PET-CT/HN-CHUS-082/08-...  ...         4\n",
              "4  /content/data/Head-Neck-PET-CT/HN-CHUS-052/08-...  ...         0\n",
              "5  /content/data/Head-Neck-PET-CT/HN-CHUS-052/08-...  ...         2\n",
              "6  /content/data/Head-Neck-PET-CT/HN-CHUS-052/08-...  ...         3\n",
              "7  /content/data/Head-Neck-PET-CT/HN-CHUS-052/08-...  ...         4\n",
              "\n",
              "[8 rows x 23 columns]"
            ]
          },
          "metadata": {},
          "execution_count": 15
        }
      ]
    },
    {
      "cell_type": "markdown",
      "source": [
        "### Graph visualization  \n",
        "Download the datanet.html file for better visualization   \n",
        "You can also change the size by editing the html file"
      ],
      "metadata": {
        "id": "rV_KyXKYMdjQ"
      }
    },
    {
      "cell_type": "code",
      "source": [
        "import IPython\n",
        "IPython.display.HTML(filename=os.path.join(os.path.dirname(quebec_path),\"datanet.html\"))"
      ],
      "metadata": {
        "colab": {
          "base_uri": "https://localhost:8080/",
          "height": 296
        },
        "id": "55lCaIutMech",
        "outputId": "99359624-fa1e-486b-fad7-578b48179e17"
      },
      "execution_count": 26,
      "outputs": [
        {
          "output_type": "execute_result",
          "data": {
            "text/html": [
              "<html>\n",
              "<head>\n",
              "<link rel=\"stylesheet\" href=\"https://cdnjs.cloudflare.com/ajax/libs/vis/4.16.1/vis.css\" type=\"text/css\" />\n",
              "<script type=\"text/javascript\" src=\"https://cdnjs.cloudflare.com/ajax/libs/vis/4.16.1/vis-network.min.js\"> </script>\n",
              "<center>\n",
              "<h1></h1>\n",
              "</center>\n",
              "\n",
              "<!-- <link rel=\"stylesheet\" href=\"../node_modules/vis/dist/vis.min.css\" type=\"text/css\" />\n",
              "<script type=\"text/javascript\" src=\"../node_modules/vis/dist/vis.js\"> </script>-->\n",
              "\n",
              "<style type=\"text/css\">\n",
              "\n",
              "        #mynetwork {\n",
              "            width: 600;\n",
              "            height: 600;\n",
              "            background-color: #222222;\n",
              "            border: 1px solid lightgray;\n",
              "            position: relative;\n",
              "            float: left;\n",
              "        }\n",
              "\n",
              "        \n",
              "\n",
              "        \n",
              "\n",
              "        \n",
              "</style>\n",
              "\n",
              "</head>\n",
              "\n",
              "<body>\n",
              "<div id = \"mynetwork\"></div>\n",
              "\n",
              "\n",
              "<script type=\"text/javascript\">\n",
              "\n",
              "    // initialize global variables.\n",
              "    var edges;\n",
              "    var nodes;\n",
              "    var network; \n",
              "    var container;\n",
              "    var options, data;\n",
              "\n",
              "    \n",
              "    // This method is responsible for drawing the graph, returns the drawn network\n",
              "    function drawGraph() {\n",
              "        var container = document.getElementById('mynetwork');\n",
              "        \n",
              "        \n",
              "\n",
              "        // parsing and collecting nodes and edges from the python\n",
              "        nodes = new vis.DataSet([{\"font\": {\"color\": \"white\"}, \"group\": \"HN-CHUS-082\", \"id\": \"1.3.6.1.4.1.14519.5.2.1.5168.2407.104174488062474642973388589632\", \"label\": \"RTDOSE\", \"shape\": \"dot\", \"title\": \"\\u003cbr\\u003ePatient_id: HN-CHUS-082\\u003cbr\\u003eSeries: 1.3.6.1.4.1.14519.5.2.1.5168.2407.104174488062474642973388589632\\u003cbr\\u003ereference_ct: nan\\u003cbr\\u003ereference_rs: 1.3.6.1.4.1.14519.5.2.1.5168.2407.179765748272201291037848609542\\u003cbr\\u003eNumber of connections: 1\", \"value\": 1}, {\"font\": {\"color\": \"white\"}, \"group\": \"HN-CHUS-082\", \"id\": \"1.3.6.1.4.1.14519.5.2.1.5168.2407.156522899867652642326119267882\", \"label\": \"RTSTRUCT\", \"shape\": \"dot\", \"title\": \"\\u003cbr\\u003ePatient_id: HN-CHUS-082\\u003cbr\\u003eSeries: 1.3.6.1.4.1.14519.5.2.1.5168.2407.156522899867652642326119267882\\u003cbr\\u003ereference_ct: 1.3.6.1.4.1.14519.5.2.1.5168.2407.208685212796869587939403105195\\u003cbr\\u003ereference_rs: nan\\u003cbr\\u003eNumber of connections: 2\", \"value\": 2}, {\"font\": {\"color\": \"white\"}, \"group\": \"HN-CHUS-082\", \"id\": \"1.3.6.1.4.1.14519.5.2.1.5168.2407.208685212796869587939403105195\", \"label\": \"CT\", \"shape\": \"dot\", \"title\": \"\\u003cbr\\u003ePatient_id: HN-CHUS-082\\u003cbr\\u003eSeries: 1.3.6.1.4.1.14519.5.2.1.5168.2407.208685212796869587939403105195\\u003cbr\\u003ereference_ct: nan\\u003cbr\\u003ereference_rs: nan\\u003cbr\\u003eNumber of connections: 2\", \"value\": 2}, {\"font\": {\"color\": \"white\"}, \"group\": \"HN-CHUS-082\", \"id\": \"1.3.6.1.4.1.14519.5.2.1.5168.2407.766477766548086089100676991674\", \"label\": \"RTSTRUCT\", \"shape\": \"dot\", \"title\": \"\\u003cbr\\u003ePatient_id: HN-CHUS-082\\u003cbr\\u003eSeries: 1.3.6.1.4.1.14519.5.2.1.5168.2407.766477766548086089100676991674\\u003cbr\\u003ereference_ct: 1.3.6.1.4.1.14519.5.2.1.5168.2407.289342954540727763876338572508\\u003cbr\\u003ereference_rs: nan\\u003cbr\\u003eNumber of connections: 1\", \"value\": 1}, {\"font\": {\"color\": \"white\"}, \"group\": \"HN-CHUS-082\", \"id\": \"1.3.6.1.4.1.14519.5.2.1.5168.2407.289342954540727763876338572508\", \"label\": \"PT\", \"shape\": \"dot\", \"title\": \"\\u003cbr\\u003ePatient_id: HN-CHUS-082\\u003cbr\\u003eSeries: 1.3.6.1.4.1.14519.5.2.1.5168.2407.289342954540727763876338572508\\u003cbr\\u003ereference_ct: nan\\u003cbr\\u003ereference_rs: nan\\u003cbr\\u003eNumber of connections: 2\", \"value\": 2}, {\"font\": {\"color\": \"white\"}, \"group\": \"HN-CHUS-052\", \"id\": \"1.3.6.1.4.1.14519.5.2.1.5168.2407.241156363783541391079126611376\", \"label\": \"RTDOSE\", \"shape\": \"dot\", \"title\": \"\\u003cbr\\u003ePatient_id: HN-CHUS-052\\u003cbr\\u003eSeries: 1.3.6.1.4.1.14519.5.2.1.5168.2407.241156363783541391079126611376\\u003cbr\\u003ereference_ct: nan\\u003cbr\\u003ereference_rs: 1.3.6.1.4.1.14519.5.2.1.5168.2407.196238472009303016456632231933\\u003cbr\\u003eNumber of connections: 1\", \"value\": 1}, {\"font\": {\"color\": \"white\"}, \"group\": \"HN-CHUS-052\", \"id\": \"1.3.6.1.4.1.14519.5.2.1.5168.2407.259673657557881696121957341418\", \"label\": \"RTSTRUCT\", \"shape\": \"dot\", \"title\": \"\\u003cbr\\u003ePatient_id: HN-CHUS-052\\u003cbr\\u003eSeries: 1.3.6.1.4.1.14519.5.2.1.5168.2407.259673657557881696121957341418\\u003cbr\\u003ereference_ct: 1.3.6.1.4.1.14519.5.2.1.5168.2407.316675519384816522302881406362\\u003cbr\\u003ereference_rs: nan\\u003cbr\\u003eNumber of connections: 2\", \"value\": 2}, {\"font\": {\"color\": \"white\"}, \"group\": \"HN-CHUS-052\", \"id\": \"1.3.6.1.4.1.14519.5.2.1.5168.2407.316675519384816522302881406362\", \"label\": \"CT\", \"shape\": \"dot\", \"title\": \"\\u003cbr\\u003ePatient_id: HN-CHUS-052\\u003cbr\\u003eSeries: 1.3.6.1.4.1.14519.5.2.1.5168.2407.316675519384816522302881406362\\u003cbr\\u003ereference_ct: nan\\u003cbr\\u003ereference_rs: nan\\u003cbr\\u003eNumber of connections: 2\", \"value\": 2}, {\"font\": {\"color\": \"white\"}, \"group\": \"HN-CHUS-052\", \"id\": \"1.3.6.1.4.1.14519.5.2.1.5168.2407.442248252736026281235079687625\", \"label\": \"RTSTRUCT\", \"shape\": \"dot\", \"title\": \"\\u003cbr\\u003ePatient_id: HN-CHUS-052\\u003cbr\\u003eSeries: 1.3.6.1.4.1.14519.5.2.1.5168.2407.442248252736026281235079687625\\u003cbr\\u003ereference_ct: 1.3.6.1.4.1.14519.5.2.1.5168.2407.267511642604569856604707244600\\u003cbr\\u003ereference_rs: nan\\u003cbr\\u003eNumber of connections: 1\", \"value\": 1}, {\"font\": {\"color\": \"white\"}, \"group\": \"HN-CHUS-052\", \"id\": \"1.3.6.1.4.1.14519.5.2.1.5168.2407.267511642604569856604707244600\", \"label\": \"PT\", \"shape\": \"dot\", \"title\": \"\\u003cbr\\u003ePatient_id: HN-CHUS-052\\u003cbr\\u003eSeries: 1.3.6.1.4.1.14519.5.2.1.5168.2407.267511642604569856604707244600\\u003cbr\\u003ereference_ct: nan\\u003cbr\\u003ereference_rs: nan\\u003cbr\\u003eNumber of connections: 2\", \"value\": 2}]);\n",
              "        edges = new vis.DataSet([{\"from\": \"1.3.6.1.4.1.14519.5.2.1.5168.2407.104174488062474642973388589632\", \"to\": \"1.3.6.1.4.1.14519.5.2.1.5168.2407.156522899867652642326119267882\"}, {\"from\": \"1.3.6.1.4.1.14519.5.2.1.5168.2407.156522899867652642326119267882\", \"to\": \"1.3.6.1.4.1.14519.5.2.1.5168.2407.208685212796869587939403105195\"}, {\"from\": \"1.3.6.1.4.1.14519.5.2.1.5168.2407.766477766548086089100676991674\", \"to\": \"1.3.6.1.4.1.14519.5.2.1.5168.2407.289342954540727763876338572508\"}, {\"from\": \"1.3.6.1.4.1.14519.5.2.1.5168.2407.289342954540727763876338572508\", \"to\": \"1.3.6.1.4.1.14519.5.2.1.5168.2407.208685212796869587939403105195\"}, {\"from\": \"1.3.6.1.4.1.14519.5.2.1.5168.2407.241156363783541391079126611376\", \"to\": \"1.3.6.1.4.1.14519.5.2.1.5168.2407.259673657557881696121957341418\"}, {\"from\": \"1.3.6.1.4.1.14519.5.2.1.5168.2407.259673657557881696121957341418\", \"to\": \"1.3.6.1.4.1.14519.5.2.1.5168.2407.316675519384816522302881406362\"}, {\"from\": \"1.3.6.1.4.1.14519.5.2.1.5168.2407.442248252736026281235079687625\", \"to\": \"1.3.6.1.4.1.14519.5.2.1.5168.2407.267511642604569856604707244600\"}, {\"from\": \"1.3.6.1.4.1.14519.5.2.1.5168.2407.267511642604569856604707244600\", \"to\": \"1.3.6.1.4.1.14519.5.2.1.5168.2407.316675519384816522302881406362\"}]);\n",
              "\n",
              "        // adding nodes and edges to the graph\n",
              "        data = {nodes: nodes, edges: edges};\n",
              "\n",
              "        var options = {\n",
              "    \"configure\": {\n",
              "        \"enabled\": false\n",
              "    },\n",
              "    \"edges\": {\n",
              "        \"color\": {\n",
              "            \"inherit\": true\n",
              "        },\n",
              "        \"smooth\": {\n",
              "            \"enabled\": false,\n",
              "            \"type\": \"continuous\"\n",
              "        }\n",
              "    },\n",
              "    \"interaction\": {\n",
              "        \"dragNodes\": true,\n",
              "        \"hideEdgesOnDrag\": false,\n",
              "        \"hideNodesOnDrag\": false\n",
              "    },\n",
              "    \"physics\": {\n",
              "        \"enabled\": true,\n",
              "        \"stabilization\": {\n",
              "            \"enabled\": true,\n",
              "            \"fit\": true,\n",
              "            \"iterations\": 1000,\n",
              "            \"onlyDynamicEdges\": false,\n",
              "            \"updateInterval\": 50\n",
              "        }\n",
              "    }\n",
              "};\n",
              "        \n",
              "        \n",
              "\n",
              "        \n",
              "\n",
              "        network = new vis.Network(container, data, options);\n",
              "\t \n",
              "        \n",
              "\n",
              "\n",
              "        \n",
              "\n",
              "        return network;\n",
              "\n",
              "    }\n",
              "\n",
              "    drawGraph();\n",
              "\n",
              "</script>\n",
              "</body>\n",
              "</html>"
            ],
            "text/plain": [
              "<IPython.core.display.HTML object>"
            ]
          },
          "metadata": {},
          "execution_count": 26
        }
      ]
    },
    {
      "cell_type": "markdown",
      "source": [
        "### Metadata and Component table"
      ],
      "metadata": {
        "id": "efyV-K6wMfAk"
      }
    },
    {
      "cell_type": "code",
      "source": [
        "df = pd.read_csv(os.path.join(output_path,\"dataset.csv\"))\n",
        "df.head()"
      ],
      "metadata": {
        "colab": {
          "base_uri": "https://localhost:8080/",
          "height": 219
        },
        "id": "jwvkgWOiMfb6",
        "outputId": "55a129b8-4105-4751-b28d-ce6be1d8f55d"
      },
      "execution_count": 22,
      "outputs": [
        {
          "output_type": "execute_result",
          "data": {
            "text/html": [
              "<div>\n",
              "<style scoped>\n",
              "    .dataframe tbody tr th:only-of-type {\n",
              "        vertical-align: middle;\n",
              "    }\n",
              "\n",
              "    .dataframe tbody tr th {\n",
              "        vertical-align: top;\n",
              "    }\n",
              "\n",
              "    .dataframe thead th {\n",
              "        text-align: right;\n",
              "    }\n",
              "</style>\n",
              "<table border=\"1\" class=\"dataframe\">\n",
              "  <thead>\n",
              "    <tr style=\"text-align: right;\">\n",
              "      <th></th>\n",
              "      <th>Unnamed: 0</th>\n",
              "      <th>study</th>\n",
              "      <th>patient_ID</th>\n",
              "      <th>series_CT</th>\n",
              "      <th>folder_CT</th>\n",
              "      <th>series_RTSTRUCT_CT</th>\n",
              "      <th>folder_RTSTRUCT_CT</th>\n",
              "      <th>series_RTDOSE_CT</th>\n",
              "      <th>folder_RTDOSE_CT</th>\n",
              "      <th>size_CT</th>\n",
              "      <th>metadata_RTSTRUCT_CT</th>\n",
              "      <th>size_RTDOSE_CT</th>\n",
              "      <th>metadata_RTDOSE_CT</th>\n",
              "    </tr>\n",
              "  </thead>\n",
              "  <tbody>\n",
              "    <tr>\n",
              "      <th>0</th>\n",
              "      <td>0_HN-CHUS-052</td>\n",
              "      <td>1.3.6.1.4.1.14519.5.2.1.5168.2407.270192284011...</td>\n",
              "      <td>HN-CHUS-052</td>\n",
              "      <td>1.3.6.1.4.1.14519.5.2.1.5168.2407.316675519384...</td>\n",
              "      <td>/content/data/Head-Neck-PET-CT/HN-CHUS-052/08-...</td>\n",
              "      <td>1.3.6.1.4.1.14519.5.2.1.5168.2407.259673657557...</td>\n",
              "      <td>/content/data/Head-Neck-PET-CT/HN-CHUS-052/08-...</td>\n",
              "      <td>1.3.6.1.4.1.14519.5.2.1.5168.2407.241156363783...</td>\n",
              "      <td>/content/data/Head-Neck-PET-CT/HN-CHUS-052/08-...</td>\n",
              "      <td>(120, 120, 79)</td>\n",
              "      <td>[['IsoCT', 'Isocentre', 'GTV1', 'GTV2 GG', 'CT...</td>\n",
              "      <td>(120, 120, 79)</td>\n",
              "      <td>[{}]</td>\n",
              "    </tr>\n",
              "    <tr>\n",
              "      <th>1</th>\n",
              "      <td>1_HN-CHUS-082</td>\n",
              "      <td>1.3.6.1.4.1.14519.5.2.1.5168.2407.510837068387...</td>\n",
              "      <td>HN-CHUS-082</td>\n",
              "      <td>1.3.6.1.4.1.14519.5.2.1.5168.2407.208685212796...</td>\n",
              "      <td>/content/data/Head-Neck-PET-CT/HN-CHUS-082/08-...</td>\n",
              "      <td>1.3.6.1.4.1.14519.5.2.1.5168.2407.156522899867...</td>\n",
              "      <td>/content/data/Head-Neck-PET-CT/HN-CHUS-082/08-...</td>\n",
              "      <td>1.3.6.1.4.1.14519.5.2.1.5168.2407.104174488062...</td>\n",
              "      <td>/content/data/Head-Neck-PET-CT/HN-CHUS-082/08-...</td>\n",
              "      <td>(120, 120, 80)</td>\n",
              "      <td>[['Iso Nasopharynx', 'GTV1', 'CTV1', 'CTV2', '...</td>\n",
              "      <td>(120, 120, 80)</td>\n",
              "      <td>[{}]</td>\n",
              "    </tr>\n",
              "  </tbody>\n",
              "</table>\n",
              "</div>"
            ],
            "text/plain": [
              "      Unnamed: 0  ... metadata_RTDOSE_CT\n",
              "0  0_HN-CHUS-052  ...               [{}]\n",
              "1  1_HN-CHUS-082  ...               [{}]\n",
              "\n",
              "[2 rows x 13 columns]"
            ]
          },
          "metadata": {},
          "execution_count": 22
        }
      ]
    }
  ]
}